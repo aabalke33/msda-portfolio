{
 "cells": [
  {
   "cell_type": "code",
   "execution_count": 3,
   "id": "a7fa23ed",
   "metadata": {},
   "outputs": [],
   "source": [
    "# Import Pandas and Data\n",
    "import pandas as pd\n",
    "\n",
    "df = pd.read_csv('../Healthcare-Diabetes.csv')"
   ]
  },
  {
   "cell_type": "code",
   "execution_count": 6,
   "id": "5c060912",
   "metadata": {},
   "outputs": [],
   "source": [
    "# Create Matching Columns for WGU Medical Dataset\n",
    "# Uses Industry Standard Conversions for BMI -> Overweigth and Blood Pressure -> High Blood Pressure\n",
    "df.loc[df['Outcome'] == 1, 'Diabetes'] = 'Yes'\n",
    "df.loc[df['Outcome'] == 0, 'Diabetes'] = 'No'\n",
    "\n",
    "df.loc[df['BMI'] > 24.9, 'Overweight'] = 'Yes'\n",
    "df.loc[df['BMI'] <= 24.9, 'Overweight'] = 'No'\n",
    "\n",
    "df.loc[df['BloodPressure'] > 80, 'HighBlood'] = 'Yes'\n",
    "df.loc[df['BloodPressure'] <= 80, 'HighBlood'] = 'No'"
   ]
  },
  {
   "cell_type": "code",
   "execution_count": 8,
   "id": "1f57888c",
   "metadata": {},
   "outputs": [],
   "source": [
    "# Export Data\n",
    "df.to_csv('diabetes_dataset_clean.csv')"
   ]
  }
 ],
 "metadata": {
  "kernelspec": {
   "display_name": "Python 3 (ipykernel)",
   "language": "python",
   "name": "python3"
  },
  "language_info": {
   "codemirror_mode": {
    "name": "ipython",
    "version": 3
   },
   "file_extension": ".py",
   "mimetype": "text/x-python",
   "name": "python",
   "nbconvert_exporter": "python",
   "pygments_lexer": "ipython3",
   "version": "3.10.9"
  }
 },
 "nbformat": 4,
 "nbformat_minor": 5
}
