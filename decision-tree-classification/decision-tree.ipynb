{
 "cells": [
  {
   "cell_type": "markdown",
   "id": "23a79737",
   "metadata": {},
   "source": [
    "# Decision Tree Predictive Analysis\n",
    "\n",
    "Aaron Balke\n",
    "\n",
    "December 20th, 2023\n",
    "\n",
    "# Part I: Research Question\n",
    "\n",
    "## Question\n",
    "\n",
    "My question for this assessment follows my previous analysis of High Blood pressure. My question for this analysis is, \"Can a decision tree classification model group patients by High Blood Pressure with an accuracy of 80% or more.\" The reason for this question is my logistic regression model could reach 80% accuracy and I believe it is necessary to have a more accurate model for health-related predictions.\n",
    "\n",
    "## Goal\n",
    "\n",
    "The goal of this analysis is to create a decision tree classification model with an accuracy of 80% or more. This would be more accurate than my previous Logistic Regression Model, and KNN Classification Model. With the more accurate model, we can make Blood Pressure predictions and analyses with confidence, which will allow us to make lifestyle and health suggestions to patients we believe will or are part of the High Blood Pressure Group.\n",
    "\n",
    "# Part II: Method Justification\n",
    "\n",
    "## Decision Tree Classification\n",
    "\n",
    "Decision Tree Classification will be used over Random Forests since the main benefit of Random Forests is the prevention of overfitting. From my previous analysis of this data, our problem is not overfitting, and seems to be underfitting, so using Random Forest Classification would add needless complexity to our analysis. (Sharma)\n",
    "\n",
    "Decision Tree classification follows a logical path through nodes, representing questions/functions. For each situation, the node's answer moves you to the next node deeper in the tree. This continues until you reach the leaves of the tree, a final predicted label for the inputted data. Each node should get you closer to the correct label, an example of a node question in our dataset would be \"Is Male?\" a yes response would lead to one node, and a no response would lead to another. (carpentries-incubator) \n",
    "\n",
    "The expected outcome is predicted labels that match our test labels, if it can accurately complete this task, the model can distinguish the High Blood Pressure group from the No High Blood Pressure Group.\n",
    "\n",
    "## Assumption\n",
    "\n",
    "One assumption of decision tree classification, is that when processing down the tree, the current node is the most important. At the current node, the model will make the most optimal decision with just the information it currently has, not taking into account, future decisions and possible influences further down the tree. This may lead to a tree with a inoptimal global state.\n",
    "(Saini)\n",
    "\n",
    "## Packages and Libraries\n",
    "1. Python: I will be using Python as my programming language since it is a straightforward language, has strong data analysis support, and is the language I am most familiar with.\n",
    "2. Jupyter Notebook: I will be running Python in a Juypter Notebook environment since Jupyter provides checkpoint functionality. This means data will not need to be loaded runtime, but rather its state is stored for later use.\n",
    "3. Pandas: The Pandas package provides useful data science structures to Python in the form of DataFrames. Dataframes allow for easier manipulation of larger datasets. This is much easier than the standard list/arrays provided by Python.\n",
    "3. Numpy: The Numpy package provides to this situation efficient scientific computing, and NaN values to simplify data completeness operations.\n",
    "6. Sklearn: Provides train_test_split method to help evaluate model, metrics to evaluate model, Decision Tree Classifier Model Object for analysis, and GridSearchCV for automatic assessment of many model hyperparams.\n",
    "\n",
    "# Part III: Data Preparation\n",
    "## Preprocessing Goal\n",
    "\n",
    "The Decision Tree Model does not require a lot of the previous data preparation steps we have had to do, including removing insignificant variables and multicolinear variables. We still need to convert data types and create dummy variables. The dummy variables replace categorical variables representing multiple values, with features that represent individual values. This is required for all models that require numerical inputs, such as decision tree classification models.\n",
    "\n",
    "## Variables\n",
    "\n",
    "| Feature | Type |\n",
    "|:---------|:--------|\n",
    "|  Age  | Numeric |\n",
    "|  Income  | Numeric |\n",
    "|  Marital  | Categorical |\n",
    "|  Gender  | Categorical |\n",
    "|  ReAdmis  | Categorical |\n",
    "|  VitD_levels  | Numeric |\n",
    "|  Doc_visits  | Numeric |\n",
    "|  Full_meals_eaten  | Numeric |\n",
    "|  VitD_supp  | Numeric |\n",
    "|  Soft_drink  | Categorical |\n",
    "|  Stroke  | Categorical |\n",
    "|  Complication_risk  | Categorical |\n",
    "|  Overweight  | Categorical |\n",
    "|  Arthritis  | Categorical |\n",
    "|  Diabetes  | Categorical |\n",
    "|  Hyperlipidemia  | Categorical |\n",
    "|  BackPain  | Categorical |\n",
    "|  Anxiety  | Categorical |\n",
    "|  Allergic_rhinitis  | Categorical |\n",
    "|  Reflux_esophagitis  | Categorical |\n",
    "|  Asthma  | Categorical |\n",
    "|  Initial_days  | Numeric |\n",
    "|  Additional_charges  | Numeric |\n",
    "\n",
    "It is important to note I completed this analysis once without the additional_charges variable, which failed. The addition of that variable has made all the difference.\n",
    "\n",
    "## Data Preparation\n",
    "\n",
    "1. Drop Unused Features: This simplifies the analysis by removing all Survey and Location Based Data\n",
    "2. Convert Datatypes: Object to Categories, and Boolean Strings to Numbers\n",
    "3. Create Dummy Variables: Converts Categorical Features into Numerical Binary features\n",
    "4. Split Data into Independent and Dependent Variables"
   ]
  },
  {
   "cell_type": "code",
   "execution_count": 1,
   "id": "37fbddb7",
   "metadata": {},
   "outputs": [],
   "source": [
    "# Standard Imports\n",
    "import pandas as pd\n",
    "import numpy as np\n",
    "import matplotlib.pyplot as plt\n",
    "\n",
    "# Sklearn Imports\n",
    "from sklearn.model_selection import train_test_split, GridSearchCV\n",
    "from sklearn.tree import DecisionTreeClassifier\n",
    "from sklearn import metrics\n",
    "\n",
    "# Import Data\n",
    "df = pd.read_csv('../medical_clean.csv', index_col=0)"
   ]
  },
  {
   "cell_type": "code",
   "execution_count": 2,
   "id": "bbc557e3",
   "metadata": {},
   "outputs": [],
   "source": [
    "# Remove Unused Features\n",
    "df.drop(\n",
    "    columns = ['Customer_id', 'Interaction', 'UID', 'City', 'State', 'County', 'Zip', 'Lat', 'Lng', 'Population', 'Area',\n",
    "               'TimeZone', 'Job', 'Children', 'Initial_admin', 'Services', 'TotalCharge', 'Item1', 'Item2', 'Item3', 'Item4',\n",
    "               'Item5', 'Item6', 'Item7', 'Item8'\n",
    "              ],\n",
    "    inplace=True\n",
    ")"
   ]
  },
  {
   "cell_type": "code",
   "execution_count": 3,
   "id": "0d933f6e",
   "metadata": {},
   "outputs": [],
   "source": [
    "# Convert Categorical\n",
    "var_cat = ['Marital', 'Gender', 'Complication_risk']\n",
    "\n",
    "for var in var_cat:\n",
    "    df[var] = df[var].astype(\"category\")\n",
    "\n",
    "# Convert Boolean\n",
    "var_bool = ['ReAdmis', 'Soft_drink', 'Stroke', 'Overweight', 'Arthritis', 'Diabetes',\n",
    "            'Hyperlipidemia', 'BackPain', 'Anxiety', 'Allergic_rhinitis', 'Reflux_esophagitis',\n",
    "            'Asthma']\n",
    "\n",
    "for var in var_bool:\n",
    "    df[var] = df[var].replace({\n",
    "        \"Yes\": 1,\n",
    "        \"No\": 0\n",
    "    })\n",
    "    \n",
    "df['HighBlood'] = df['HighBlood'].replace({\n",
    "    \"Yes\": 1,\n",
    "    \"No\": 0\n",
    "})\n",
    "    \n",
    "var_numeric = ['Age', 'VitD_levels', 'Doc_visits', 'Full_meals_eaten', 'vitD_supp', 'Initial_days', 'Additional_charges']\n",
    "\n",
    "# Convert String Categorical into Separate Boolean Features (Dummy Variables)\n",
    "\n",
    "var_cat_dumm = []\n",
    "\n",
    "for var in var_cat:\n",
    "    dummies = pd.get_dummies(df[var], prefix=var, drop_first=True).astype(np.int64)\n",
    "    df.drop(var, axis=1, inplace=True)\n",
    "    df = pd.concat([df, dummies], axis=\"columns\")\n",
    "    var_cat_dumm.extend(dummies.columns)\n",
    "    \n",
    "# Combine Names of all independent variables into 1 list\n",
    "var_independent = var_numeric + var_bool + var_cat_dumm"
   ]
  },
  {
   "cell_type": "markdown",
   "id": "4aef5c0b",
   "metadata": {},
   "source": [
    "## Export CSV"
   ]
  },
  {
   "cell_type": "code",
   "execution_count": 4,
   "id": "32b4c1be",
   "metadata": {},
   "outputs": [],
   "source": [
    "# Export Data to CSV\n",
    "df.to_csv('./clean.csv', index=False)"
   ]
  },
  {
   "cell_type": "markdown",
   "id": "6da08238",
   "metadata": {},
   "source": [
    "# Part IV: Analysis\n",
    "## Split Data"
   ]
  },
  {
   "cell_type": "code",
   "execution_count": 5,
   "id": "ac17e53e",
   "metadata": {},
   "outputs": [],
   "source": [
    "# Split Dependent and Independent Variables\n",
    "X = df.drop(columns=['HighBlood'], axis=1).copy()\n",
    "y = df['HighBlood'].copy()\n",
    "\n",
    "# Split Data and Export CSVs for each Set\n",
    "X_train, X_test, y_train, y_test = train_test_split(X, y, test_size=0.2, random_state=69, stratify=y)\n",
    "\n",
    "X_train.to_csv('./X_train.csv', index=False)\n",
    "X_test.to_csv('./X_test.csv', index=False)\n",
    "y_train.to_csv('./Y_train.csv', index=False)\n",
    "y_test.to_csv('./Y_test.csv', index=False)"
   ]
  },
  {
   "cell_type": "markdown",
   "id": "e8e3a225",
   "metadata": {},
   "source": [
    "## Analysis Technique\n",
    "\n",
    "In order to Analyze the Data using a Decision Tree Classifer we will need to do the following:\n",
    "1. Define HyperParameter Ranges: These are the ranges for params we want to test for to find the most optimal model\n",
    "2. Create a Decision Tree Classifier Object, and run it through Grid Search Cross-Validation to find the best set of hyperparameters\n",
    "3. Fit the optimal model to the training data\n",
    "\n",
    "## Analysis Code"
   ]
  },
  {
   "cell_type": "code",
   "execution_count": 6,
   "id": "30ae8c10",
   "metadata": {},
   "outputs": [
    {
     "name": "stdout",
     "output_type": "stream",
     "text": [
      "Optimal Model Parameters: \n",
      "Max Depth 5\n",
      "Min Samples Leaf 0.02\n"
     ]
    }
   ],
   "source": [
    "# Initial Decision Tree Model (Datacamp)\n",
    "\n",
    "# Define Hyperparam Range\n",
    "params = {\n",
    "    'max_depth': np.arange(1, 20),\n",
    "    'min_samples_leaf' : np.arange(0.01, 1, 0.01)\n",
    "}\n",
    "\n",
    "# Initialize DecisionTreeClassifer and run GridSearchCV against it to find the most optimal params\n",
    "# Default CV = 5, n_jobs fixes single core limit, scoring is Area Under the Curve\n",
    "tree = DecisionTreeClassifier(random_state=69)\n",
    "cv = GridSearchCV(tree, params, scoring='roc_auc', n_jobs=-1)\n",
    "best = cv.fit(X_train,y_train).best_estimator_\n",
    "\n",
    "# Create Prediction\n",
    "y_pred = best.predict(X_test)\n",
    "\n",
    "print(\"Optimal Model Parameters: \")\n",
    "print(\"Max Depth\", best.max_depth)\n",
    "print(\"Min Samples Leaf\", best.min_samples_leaf)"
   ]
  },
  {
   "cell_type": "markdown",
   "id": "60701053",
   "metadata": {},
   "source": [
    "# Part V: Data Summary and Implications\n",
    "## Accuracy Evaluation\n",
    "\n",
    "In order to evaluate the accuracy of this model I will use a confusion matrix, AUC Metric, Visualization, and MSE value. These are mostly being used to compare the accuracy to previous models I have created, the Logistic Regression Model and KNN Classification model."
   ]
  },
  {
   "cell_type": "code",
   "execution_count": 7,
   "id": "9b539735",
   "metadata": {},
   "outputs": [
    {
     "data": {
      "image/png": "[encoded data removed]",
      "text/plain": [
       "<Figure size 640x480 with 2 Axes>"
      ]
     },
     "metadata": {},
     "output_type": "display_data"
    },
    {
     "name": "stdout",
     "output_type": "stream",
     "text": [
      "Accuracy: 0.99\n",
      "Precision: 0.97\n",
      "Sensitivity (Recall): 0.99\n",
      "Specificity: 0.98\n",
      "F-score: 0.98\n"
     ]
    }
   ],
   "source": [
    "import matplotlib.pyplot as plt\n",
    "# Confusion Matrix Visualization\n",
    "cm = metrics.confusion_matrix(y_test, y_pred)\n",
    "disp = metrics.ConfusionMatrixDisplay(confusion_matrix=cm)\n",
    "disp.plot()\n",
    "plt.show()\n",
    "\n",
    "# All Confusion Matrix Metrics\n",
    "print(f'Accuracy: {round(metrics.accuracy_score(y_test, y_pred),2)}')\n",
    "print(f'Precision: {round(metrics.precision_score(y_test, y_pred),2)}')\n",
    "print(f'Sensitivity (Recall): {round(metrics.recall_score(y_test, y_pred),2)}')\n",
    "print(f'Specificity: {round(metrics.recall_score(y_test, y_pred, pos_label=0),2)}')\n",
    "print(f'F-score: {round(metrics.f1_score(y_test, y_pred),2)}')"
   ]
  },
  {
   "cell_type": "code",
   "execution_count": 8,
   "id": "32df9fd6",
   "metadata": {},
   "outputs": [
    {
     "data": {
      "image/png": "[encoded data removed]",
      "text/plain": [
       "<Figure size 640x480 with 1 Axes>"
      ]
     },
     "metadata": {},
     "output_type": "display_data"
    },
    {
     "name": "stdout",
     "output_type": "stream",
     "text": [
      "AUC:  0.9988\n"
     ]
    }
   ],
   "source": [
    "# Area-Under-Curve Visualization (Datacamp)\n",
    "y_pred_prob = best.predict_proba(X_test)[:,1]\n",
    "fpr, tpr, thresholds = metrics.roc_curve(y_test, y_pred_prob)\n",
    "plt.plot(fpr, tpr)\n",
    "plt.title(\"AUC Visualization\")\n",
    "plt.show()\n",
    "\n",
    "# Area-Under-Curve Metric\n",
    "auc = metrics.auc(fpr, tpr)\n",
    "print(\"AUC: \", round(auc, 4))"
   ]
  },
  {
   "cell_type": "code",
   "execution_count": 9,
   "id": "fc144f1d",
   "metadata": {},
   "outputs": [
    {
     "name": "stdout",
     "output_type": "stream",
     "text": [
      "The Mean Squared Error:  0.0145\n"
     ]
    }
   ],
   "source": [
    "# Mean Squared Error Metric\n",
    "mse = metrics.mean_squared_error(y_test, y_pred)\n",
    "print(\"The Mean Squared Error: \", mse)"
   ]
  },
  {
   "cell_type": "markdown",
   "id": "edbf08fb",
   "metadata": {},
   "source": [
    "## Results\n",
    "\n",
    "As we can see from the confusion matrix accuracy metric of 99%, an AUC value of 99.88%, and an MSE of 0.0145, our model is very accurate and does meet our goal of outperforming my previous Logistic Regression Model of 80% accuracy. The confusion matrix shows that it barely ever makes false positive or false negative predictions, the AUC plot, showing a top left corner point, and almost 1.0 value shows the model can accurately differentiate the high blood pressure from the no high blood pressure patient distributions, and the Mean squared error being so low shows we have very minimal errors. I do not believe MSE is an accurate metric for our binary decision tree classification since MSE assumes normal distributions and regression analysis. I have included the confusion matrix, and AUC metrics to provide a more meaningful evaluation.\n",
    "\n",
    "## Limitation\n",
    "\n",
    "To speak on the limitations of this analysis, we have to speak on what it took to get such an accurate model. I spent quite some time building a Decision Tree Model that was completely unsuccessful before this current one. My original problem was not including the additional_charges feature from the dataset. Without that feature included, the model's accuracy and AUC values were closer to 50% - as good as randomly guessing. After adding all the features in, and eliminating insignificant features, I was able to land on additional_charges as the most important feature to our analysis. The limitation of the analysis is that this one feature is not accessible on initial patient admission, and will only be created afterwards. This model can only be used for post-admission situations.\n",
    "\n",
    "## Recommendation\n",
    "\n",
    "Based on this analysis, I do believe we have found a better model for predicting and classifying patients with and without High Blood Pressure, in fact I believe this is the most accurate we can get a model and it is sufficient for making health and lifestyle suggestions to patients. The one catch is it does heavily rely on the additional_charges feature, a feature only accessible after patients have been admitted. I suggest for new patients, we continue to use the less accurate Logistic Regression model, which does not require the additional_charges feature, and we can use this model for post-admission situations. An example that sticks out is for filling in null values in the dataset in the future, instead of dropping the records, or imputing with a most_freq or median value, we can now run this decision tree model against the dataset and impute with values we are 99.88% sure are accurate.\n",
    "\n",
    "# Part VI: Demonstration\n",
    "\n",
    "## Presentation\n",
    "\n",
    "## Web Sources\n",
    "\n",
    "Main Source was Datacamp Resources:\n",
    "\n",
    "Hugo, B. (n.d.). Machine Learning with scikit-learn. Datacamp. from https://app.datacamp.com/learn/courses/machine-learning-with-scikit-learn\n",
    "\n",
    "Elie, K. (n.d.). Machine Learning with Tree-Based Models in Python. Datacamp. from https://app.datacamp.com/learn/courses/machine-learning-with-tree-based-models-in-python\n",
    "\n",
    "Kasey, J. (n.d.). Model Validation in Python. Datacamp. from https://app.datacamp.com/learn/courses/model-validation-in-python\n",
    "\n",
    "Preprocessing & Modeling:\n",
    "\n",
    "Beheshti, N. (2022, February 5). Cross Validation and Grid Search. Medium. https://towardsdatascience.com/cross-validation-and-grid-search-efa64b127c1b\n",
    "\n",
    "sklearn.metrics.ConfusionMatrixDisplay. (n.d.). Scikit-Learn. https://scikit-learn.org/stable/modules/generated/sklearn.metrics.ConfusionMatrixDisplay.html\n",
    "\n",
    "scikit-learn. (2019). sklearn.model_selection.GridSearchCV — scikit-learn 0.22 documentation. Scikit-Learn.org. https://scikit-learn.org/stable/modules/generated/sklearn.model_selection.GridSearchCV.html\n",
    "\n",
    "scikit learn. (2019). sklearn.tree.DecisionTreeClassifier — scikit-learn 0.22.1 documentation. Scikit-Learn.org. https://scikit-learn.org/stable/modules/generated/sklearn.tree.DecisionTreeClassifier.html\n",
    "\n",
    "Evaluation:\n",
    "\n",
    "Can the mean squared error be used for classification? (n.d.). Cross Validated. Retrieved December 18, 2023, from https://stats.stackexchange.com/questions/46413/can-the-mean-squared-error-be-used-for-classification\n",
    "\n",
    "Narkhede, S. (2018, June 27). Understanding AUC - ROC Curve. Medium; Towards Data Science. https://towardsdatascience.com/understanding-auc-roc-curve-68b2303cc9c5\n",
    "\n",
    "## Other Sources\n",
    "\n",
    "Abhigyan. (2021, November 8). Understanding Decision Tree!! Analytics Vidhya. https://medium.com/analytics-vidhya/understanding-decision-tree-3591922690a6\n",
    "\n",
    "carpentries-incubator. Decision Trees, Random Forests, and Overfitting – Machine Learning for Biologists. (n.d.). Carpentries-Incubator.github.io. https://carpentries-incubator.github.io/ml4bio-workshop/04-trees-overfitting/index.html\n",
    "\n",
    "Saini, A. (2021, August 29). Decision Tree Algorithm - A Complete Guide. Analytics Vidhya. https://www.analyticsvidhya.com/blog/2021/08/decision-tree-algorithm/\n",
    "\n",
    "Sharma, A. (2020, May 11). Decision Tree vs. Random Forest - Which Algorithm Should you Use? Analytics Vidhya. https://www.analyticsvidhya.com/blog/2020/05/decision-tree-vs-random-forest-algorithm/"
   ]
  }
 ],
 "metadata": {
  "kernelspec": {
   "display_name": "Python 3 (ipykernel)",
   "language": "python",
   "name": "python3"
  },
  "language_info": {
   "codemirror_mode": {
    "name": "ipython",
    "version": 3
   },
   "file_extension": ".py",
   "mimetype": "text/x-python",
   "name": "python",
   "nbconvert_exporter": "python",
   "pygments_lexer": "ipython3",
   "version": "3.10.9"
  }
 },
 "nbformat": 4,
 "nbformat_minor": 5
}
