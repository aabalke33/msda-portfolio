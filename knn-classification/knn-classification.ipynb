{
 "cells": [
  {
   "cell_type": "markdown",
   "id": "0f52647e",
   "metadata": {},
   "source": [
    "# KNN Classification Analysis\n",
    "\n",
    "Aaron Balke\n",
    "\n",
    "December 18th, 2023\n",
    "\n",
    "# Part I: Research Question\n",
    "\n",
    "## Question\n",
    "\n",
    "For this analysis, my research question is \"Which conditions and patient demographics are correlated with High Blood Pressure Patients?\".\n",
    "Our healthcare system can greatly benefit from knowing which aspects of a client's health can lead to high blood pressure and generalized heart complications since these are associated with 26% of all United States deaths. (CDC)\n",
    "\n",
    "This question will be analyzed using K-nearest neighbor classification.\n",
    "\n",
    "## Goals\n",
    "\n",
    "The goal of this analysis is to create an accurate and effective KNN Classification Model for answering which features are correlated to High Blood pressure. The goal is to have a model more effective than my previous Logistic Regression Model (80% accuracy). A model of this accuracy or greater would allow us to be more confident in making estimates, and health changes and wellness suggestions to patients.\n",
    "\n",
    "# Part II: Method Justification\n",
    "\n",
    "## Justification\n",
    "\n",
    "When a new data point with an unknown label is added to a K-Nearest Neighbor model, the (k amount of) points surrounding the new point are examined. The most frequent label of these surrounding points is predicted as the new data point label.   \n",
    "\n",
    "## Assumption\n",
    "\n",
    "The main assumption of KNN Classification is that \"The closer two given points are to each other, the more related and similar they are\"(Hachcham). This makes it a very simple and powerful model, however, it is sensitive to the inclusion of insignificant features. (Nelson)\n",
    "\n",
    "## Packages and Libraries\n",
    "\n",
    "Standard Libraries:\n",
    "1. Python: I will be using Python as my programming language since it is a straightforward language, has strong data analysis support, and is the language I am most familiar with.\n",
    "2. Jupyter Notebook: I will be running Python in a Juypter Notebook environment since Jupyter provides checkpoint functionality. This means data will not need to be loaded runtime, but rather its state is stored for later use.\n",
    "3. Pandas: The Pandas package provides useful data science structures to Python in the form of DataFrames. Dataframes allow for easier manipulation of larger datasets. This is much easier than the standard list/arrays provided by Python.\n",
    "3. Numpy: The Numpy package provides to this situation efficient scientific computing, and NaN values to simplify data completeness operations.\n",
    "4. Seaborn & Matplotlib: The Seaborn & Matplotlib packages will provide tools to help visualize the dataset and deliverables these will help with validation and reporting.\n",
    "5. Sklearn: Provides StandardScaler for scaling continuous variables, train_test_split method to help evaluate model, metrics to evaluate model, KNN Model Object for analysis, and GridSearchCV for automatic assessment of many model hyperparams.\n",
    "\n",
    "# Part III: Data Preparation\n",
    "\n",
    "## Data Preprocessing Goal\n",
    "\n",
    "One major goal of the preprocessing step will be to scale the Independent Variables. It will be important to have continuous variables scaled to avoid high-magnitude variables overwhelming the analysis. Since KNN Classification is a distance-based analysis the unscaled data can be heavily warped (Sharma).\n",
    "\n",
    "## Chosen Variables\n",
    "\n",
    "| Feature | Type |\n",
    "|:---------|:--------|\n",
    "|  Age  | Numeric |\n",
    "|  Income  | Numeric |\n",
    "|  Marital  | Categorical |\n",
    "|  Gender  | Categorical |\n",
    "|  ReAdmis  | Categorical |\n",
    "|  VitD_levels  | Numeric |\n",
    "|  Doc_visits  | Numeric |\n",
    "|  Full_meals_eaten  | Numeric |\n",
    "|  VitD_supp  | Numeric |\n",
    "|  Soft_drink  | Categorical |\n",
    "|  Stroke  | Categorical |\n",
    "|  Complication_risk  | Categorical |\n",
    "|  Overweight  | Categorical |\n",
    "|  Arthritis  | Categorical |\n",
    "|  Diabetes  | Categorical |\n",
    "|  Hyperlipidemia  | Categorical |\n",
    "|  BackPain  | Categorical |\n",
    "|  Anxiety  | Categorical |\n",
    "|  Allergic_rhinitis  | Categorical |\n",
    "|  Reflux_esophagitis  | Categorical |\n",
    "|  Asthma  | Categorical |\n",
    "|  Initial_days  | Numeric |\n",
    "\n",
    "## Data Preparation\n",
    "1. Remove Duplicates, Null Values, and unused Features: These values either make analysis impossible or make analysis less accurate, and less efficient.\n",
    "2. Convert Object Data into Categorical and Create Dummy Variables: Fixes problems associated with categorical variables and fixes multicollinearity.\n",
    "3. Convert Boolean Data into Integers: We Require Numerical representations.\n",
    "4. Scale Continuous Variables: We want to scale continuous independent variables, see the above data preprocessing goal of KNN classifications."
   ]
  },
  {
   "cell_type": "code",
   "execution_count": 1,
   "id": "4e7eed6d",
   "metadata": {},
   "outputs": [],
   "source": [
    "# Standard Imports\n",
    "import pandas as pd\n",
    "import numpy as np\n",
    "import matplotlib.pyplot as plt\n",
    "import seaborn as sns\n",
    "\n",
    "# Sklearn Imports\n",
    "from sklearn.preprocessing import MinMaxScaler\n",
    "from sklearn.model_selection import train_test_split, GridSearchCV\n",
    "from sklearn.neighbors import KNeighborsClassifier\n",
    "from sklearn import metrics\n",
    "\n",
    "# Import Data\n",
    "df = pd.read_csv('../medical_clean.csv', index_col=0)"
   ]
  },
  {
   "cell_type": "code",
   "execution_count": 2,
   "id": "5736d29a",
   "metadata": {},
   "outputs": [
    {
     "data": {
      "text/plain": [
       "(0, 49)"
      ]
     },
     "execution_count": 2,
     "metadata": {},
     "output_type": "execute_result"
    }
   ],
   "source": [
    "# Get Shape of new dataframe of only duplicate values\n",
    "df[df.duplicated()].shape"
   ]
  },
  {
   "cell_type": "code",
   "execution_count": 3,
   "id": "73aa63e9",
   "metadata": {},
   "outputs": [
    {
     "data": {
      "text/plain": [
       "(0,)"
      ]
     },
     "execution_count": 3,
     "metadata": {},
     "output_type": "execute_result"
    }
   ],
   "source": [
    "# Aggregate NaN Values, filter aggregates > 0, returns # records with NaN values\n",
    "nullity = df.isna().sum()\n",
    "nullity[~(nullity == 0)].shape"
   ]
  },
  {
   "cell_type": "code",
   "execution_count": 4,
   "id": "3fa01b34",
   "metadata": {},
   "outputs": [],
   "source": [
    "# Remove Unused Features\n",
    "df.drop(\n",
    "    columns = ['Customer_id', 'Interaction', 'UID', 'City', 'State', 'County', 'Zip', 'Lat', 'Lng',\n",
    "               'Population', 'Area', 'TimeZone', 'Job', 'Children', 'Initial_admin', 'Services',\n",
    "               'TotalCharge', 'Additional_charges', 'Item1', 'Item2', 'Item3', 'Item4', 'Item5',\n",
    "               'Item6', 'Item7', 'Item8'\n",
    "              ],\n",
    "    inplace=True\n",
    ")"
   ]
  },
  {
   "cell_type": "code",
   "execution_count": 5,
   "id": "c78f1086",
   "metadata": {},
   "outputs": [],
   "source": [
    "# Convert Categorical\n",
    "var_cat = ['Marital', 'Gender', 'Complication_risk']\n",
    "\n",
    "for var in var_cat:\n",
    "    df[var] = df[var].astype(\"category\")\n",
    "\n",
    "# Convert Boolean\n",
    "var_bool = ['ReAdmis', 'Soft_drink', 'Stroke', 'Overweight', 'Arthritis', 'Diabetes',\n",
    "            'Hyperlipidemia', 'BackPain', 'Anxiety', 'Allergic_rhinitis', 'Reflux_esophagitis',\n",
    "            'Asthma']\n",
    "\n",
    "for var in var_bool:\n",
    "    df[var] = df[var].replace({\n",
    "        \"Yes\": 1,\n",
    "        \"No\": 0\n",
    "    })\n",
    "    \n",
    "df['HighBlood'] = df['HighBlood'].replace({\n",
    "    \"Yes\": 1,\n",
    "    \"No\": 0\n",
    "})\n",
    "\n",
    "var_numeric = ['Age', 'Income', 'VitD_levels', 'Doc_visits', 'Full_meals_eaten', 'vitD_supp', 'Initial_days']\n",
    "\n",
    "# Convert String Categorical into Separate Boolean Features (Dummy Variables)\n",
    "\n",
    "var_cat_dumm = []\n",
    "\n",
    "for var in var_cat:\n",
    "    dummies = pd.get_dummies(df[var], prefix=var, drop_first=True).astype(np.int64)\n",
    "    df.drop(var, axis=1, inplace=True)\n",
    "    df = pd.concat([df, dummies], axis=\"columns\")\n",
    "    var_cat_dumm.extend(dummies.columns)\n",
    "    \n",
    "# Combine Names of all independent variables into 1 list\n",
    "var_independent = var_numeric + var_bool + var_cat_dumm"
   ]
  },
  {
   "cell_type": "code",
   "execution_count": 6,
   "id": "7429c7e7",
   "metadata": {},
   "outputs": [],
   "source": [
    "# Scale Continuous Features to a scale between 0 - 1\n",
    "scaler = MinMaxScaler()\n",
    "df[var_numeric] = scaler.fit_transform(df[var_numeric])"
   ]
  },
  {
   "cell_type": "markdown",
   "id": "a187d6a5",
   "metadata": {},
   "source": [
    "## Exported Dataset"
   ]
  },
  {
   "cell_type": "code",
   "execution_count": 1,
   "id": "8be2bc97",
   "metadata": {},
   "outputs": [
    {
     "ename": "NameError",
     "evalue": "name 'df' is not defined",
     "output_type": "error",
     "traceback": [
      "\u001b[1;31m---------------------------------------------------------------------------\u001b[0m",
      "\u001b[1;31mNameError\u001b[0m                                 Traceback (most recent call last)",
      "Cell \u001b[1;32mIn[1], line 2\u001b[0m\n\u001b[0;32m      1\u001b[0m \u001b[38;5;66;03m# Save independent and dependent variables in separate CSVs\u001b[39;00m\n\u001b[1;32m----> 2\u001b[0m \u001b[43mdf\u001b[49m\u001b[38;5;241m.\u001b[39mto_csv(\u001b[38;5;124m'\u001b[39m\u001b[38;5;124m./clean.csv\u001b[39m\u001b[38;5;124m'\u001b[39m, index\u001b[38;5;241m=\u001b[39m\u001b[38;5;28;01mFalse\u001b[39;00m)\n",
      "\u001b[1;31mNameError\u001b[0m: name 'df' is not defined"
     ]
    }
   ],
   "source": [
    "# Save independent and dependent variables in separate CSVs\n",
    "df.to_csv('./clean.csv', index=False)"
   ]
  },
  {
   "cell_type": "markdown",
   "id": "126e9466",
   "metadata": {},
   "source": [
    "# Part IV: Analysis\n",
    "## Data Splitting"
   ]
  },
  {
   "cell_type": "code",
   "execution_count": 8,
   "id": "78828cb9",
   "metadata": {},
   "outputs": [],
   "source": [
    "# Split Variables\n",
    "y = df['HighBlood'].copy()\n",
    "X = df.drop(columns=['HighBlood'], axis=1).copy()\n",
    "\n",
    "# Split Data and Export CSVs for each Set\n",
    "X_train, X_test, y_train, y_test = train_test_split(X, y, test_size=0.2, random_state=69, stratify=y)\n",
    "\n",
    "X_train.to_csv('./d209_task1_X_train.csv', index=False)\n",
    "X_test.to_csv('./d209_task1_X_test.csv', index=False)\n",
    "y_train.to_csv('./d209_task1_y_train.csv', index=False)\n",
    "y_test.to_csv('./d209_task1_y_test.csv', index=False)"
   ]
  },
  {
   "cell_type": "markdown",
   "id": "41e8e973",
   "metadata": {},
   "source": [
    "## Analysis Technique\n",
    "\n",
    "To perform the KNN classification the following steps must take place:\n",
    "1. Choose the correct # of K-neighbors. This is achieved by running multiple KNN models with different K values, the one that scores the highest will be used. GrisSearchCV will automate this process. GridSearchCV uses K-Fold Cross Validation to split the inputted data into training and test splits, for scoring. It will iterate over the data until each group of data has been used for testing, (in our case this is the default 5 times / 5 groups) and the average of the scores. (Beheshti)\n",
    "2. A new KNN Object will be created with the optimal K-neighbors, and the training data will be fitted. Once fitted, the test data will be predicted to return predicted values.\n",
    "\n",
    "## Classification Analysis"
   ]
  },
  {
   "cell_type": "code",
   "execution_count": 9,
   "id": "cd75d22f",
   "metadata": {},
   "outputs": [
    {
     "name": "stdout",
     "output_type": "stream",
     "text": [
      "Best Params:\t{'n_neighbors': 2}\n",
      "Best Score:\t0.565625\n"
     ]
    }
   ],
   "source": [
    "# Auotmatic Process to get the optimal K-Neighbors Amount (Source: Datacamp)\n",
    "\n",
    "params = {\n",
    "    'n_neighbors': np.arange(1,10)\n",
    "}\n",
    "\n",
    "knn = KNeighborsClassifier()\n",
    "\n",
    "# Default CV Value is 5\n",
    "knn_cv = GridSearchCV(knn, params).fit(X_train, y_train)\n",
    "\n",
    "print(f\"Best Params:\\t{knn_cv.best_params_}\")\n",
    "print(f\"Best Score:\\t{knn_cv.best_score_}\")"
   ]
  },
  {
   "cell_type": "code",
   "execution_count": 10,
   "id": "9aa673a3",
   "metadata": {},
   "outputs": [],
   "source": [
    "# Create Optimal Model, fit training data and predict on test data\n",
    "knn = KNeighborsClassifier(\n",
    "    n_neighbors=knn_cv.best_params_['n_neighbors']\n",
    ")\n",
    "\n",
    "knn.fit(X_train, y_train)\n",
    "\n",
    "y_pred = knn.predict(X_test)"
   ]
  },
  {
   "cell_type": "markdown",
   "id": "784107da",
   "metadata": {},
   "source": [
    "# Part V: Data Summary and Implications\n",
    "## Evaluation of Accuracy\n",
    "\n",
    "To evaluate the accuracy of the model we will create a confusion matrix to directly compare the test and predicted data. Then we will use the Area Under the Curve (AUC) visualization to evaluate the model's ability to separate the distributions of High Blood Pressure and No High Blood Pressure."
   ]
  },
  {
   "cell_type": "code",
   "execution_count": 11,
   "id": "6eb43845",
   "metadata": {},
   "outputs": [
    {
     "data": {
      "image/png": "[encoded data removed]",
      "text/plain": [
       "<Figure size 640x480 with 2 Axes>"
      ]
     },
     "metadata": {},
     "output_type": "display_data"
    },
    {
     "name": "stdout",
     "output_type": "stream",
     "text": [
      "Accuracy: 0.56\n",
      "Precision: 0.42\n",
      "Sensitivity (Recall): 0.17\n",
      "Specificity: 0.83\n",
      "F-score: 0.25\n"
     ]
    }
   ],
   "source": [
    "# Confusion Matrix Visualization\n",
    "cm = metrics.confusion_matrix(y_test, y_pred)\n",
    "disp = metrics.ConfusionMatrixDisplay(confusion_matrix=cm)\n",
    "disp.plot()\n",
    "plt.show()\n",
    "\n",
    "# All Confusion Matrix Metrics\n",
    "print(f'Accuracy: {round(metrics.accuracy_score(y_test, y_pred),2)}')\n",
    "print(f'Precision: {round(metrics.precision_score(y_test, y_pred),2)}')\n",
    "print(f'Sensitivity (Recall): {round(metrics.recall_score(y_test, y_pred),2)}')\n",
    "print(f'Specificity: {round(metrics.recall_score(y_test, y_pred, pos_label=0),2)}')\n",
    "print(f'F-score: {round(metrics.f1_score(y_test, y_pred),2)}')"
   ]
  },
  {
   "cell_type": "code",
   "execution_count": 12,
   "id": "65579518",
   "metadata": {},
   "outputs": [
    {
     "data": {
      "image/png": "[encoded data removed]",
      "text/plain": [
       "<Figure size 640x480 with 1 Axes>"
      ]
     },
     "metadata": {},
     "output_type": "display_data"
    },
    {
     "name": "stdout",
     "output_type": "stream",
     "text": [
      "AUC:  0.5015203604185025\n"
     ]
    }
   ],
   "source": [
    "# Area-Under-Curve Visualization (Datacamp)\n",
    "y_pred_prob = knn.predict_proba(X_test)[:,1]\n",
    "fpr, tpr, thresholds = metrics.roc_curve(y_test, y_pred_prob)\n",
    "plt.plot(fpr, tpr)\n",
    "plt.title(\"AUC Visualization\")\n",
    "plt.show()\n",
    "\n",
    "# Area-Under-Curve Metric\n",
    "auc = metrics.auc(fpr, tpr)\n",
    "print(\"AUC: \", auc)"
   ]
  },
  {
   "cell_type": "markdown",
   "id": "01a5eb1d",
   "metadata": {},
   "source": [
    "From our evaluation visualization and metrics, we can interpret our model as, really really bad. The area Under the Curve (AUC) visualization provides shows that our model can not separate the group's High Blood Pressure and No High Blood Pressure at all, The worst situation would be an AUC Value of 0.5, and ours is sitting at 0.501. The model cannot distinguish the two groups at all and makes false positive and false negative predictions consistently. The model assumes no high blood pressure far too often. This is clear from our confusion matrix, which shows it only predicted high blood pressure for 339/2000 records. I believe our confusion matrix accuracy of ~56% is due to guessing no high blood pressure constantly and sometimes being correct - \"A broken clock is right twice a day\".\n",
    "\n",
    "## Results and Implications\n",
    "\n",
    "This model performs effectively and is as good as randomly guessing and cannot make accurate predictions on patients' high blood pressure. Our goal was to create a model more accurate than our Logistic Regression model with an accuracy of 80%, and this KNN Classification model cannot beat my previous Logistic Regression Model.\n",
    "\n",
    "## Limitation\n",
    "\n",
    "I believe the use of categorical/binary variables affects this analysis greatly. Since KNN classification is a distance analysis, using variables such as high blood pressure, or overweight as \"Yes\" or \"No\" (0 or 1) instead of continuous variables removes a lot of nuance to the analysis. In my opinion, even with data Standardized, forcing a slightly overweight patient and a morbidly obese patient to have the same value in distance analysis would alter the effectiveness of the model.\n",
    "\n",
    "## Recommendation\n",
    "\n",
    "At this time my recommendation is to continue using my more accurate Logistic Regression Model and to not move forward with a KNN classification model for finding links between High Blood Pressure and other conditions/variables.\n",
    "\n",
    "## Presentation\n",
    "\n",
    "## Web Sources\n",
    "\n",
    "Main Source was Datacamp Resources:\n",
    "\n",
    "Hugo, B. (n.d.). Machine Learning with scikit-learn. Datacamp. from https://app.datacamp.com/learn/courses/machine-learning-with-scikit-learn\n",
    "\n",
    "Elie, K. (n.d.). Machine Learning with Tree-Based Models in Python. Datacamp. from https://app.datacamp.com/learn/courses/machine-learning-with-tree-based-models-in-python\n",
    "\n",
    "Kasey, J. (n.d.). Model Validation in Python. Datacamp. from https://app.datacamp.com/learn/courses/model-validation-in-python\n",
    "\n",
    "Preprocessing & Modeling:\n",
    "\n",
    "Beheshti, N. (2022, February 5). Cross Validation and Grid Search. Medium. https://towardsdatascience.com/cross-validation-and-grid-search-efa64b127c1b\n",
    "\n",
    "Detecting Multicollinearity with VIF - Python. (2020, August 14). GeeksforGeeks. https://www.geeksforgeeks.org/detecting-multicollinearity-with-vif-python/\n",
    "\n",
    "How to scale Pandas DataFrame columns ? (2021, April 24). GeeksforGeeks. https://www.geeksforgeeks.org/how-to-scale-pandas-dataframe-columns\n",
    "\n",
    "Khoong, W. H. (2023, January 21). Why Scaling Your Data Is Important. CodeX. https://medium.com/codex/why-scaling-your-data-is-important-1aff95ca97a2\n",
    "\n",
    "sklearn.feature_selection.SelectKBest — scikit-learn 0.23.0 documentation. (n.d.). Scikit-Learn.org. https://scikit-learn.org/stable/modules/generated/sklearn.feature_selection.SelectKBest.html\n",
    "\n",
    "scikit-learn . (2019). sklearn.neighbors.KNeighborsClassifier — scikit-learn 0.22.1 documentation. Scikit-Learn.org. https://scikit-learn.org/stable/modules/generated/sklearn.neighbors.KNeighborsClassifier.html\n",
    "\n",
    "sklearn.metrics.ConfusionMatrixDisplay. (n.d.). Scikit-Learn. https://scikit-learn.org/stable/modules/generated/sklearn.metrics.ConfusionMatrixDisplay.html\n",
    "\n",
    "Evaluation:\n",
    "\n",
    "KNN classification with categorical data. (n.d.). Stack Overflow. Retrieved December 16, 2023, from https://stackoverflow.com/questions/13625849/knn-classification-with-categorical-data\n",
    "\n",
    "Narkhede, S. (2018, June 27). Understanding AUC - ROC Curve. Medium; Towards Data Science. https://towardsdatascience.com/understanding-auc-roc-curve-68b2303cc9c5\n",
    "\n",
    "## Other Sources\n",
    "\n",
    "Centers for Disease Control and Prevention. (2023, January 18). Leading Causes of Death. Centers for Disease Control and Prevention. https://www.cdc.gov/nchs/fastats/leading-causes-of-death.htm\n",
    "\n",
    "Hachcham, A. (2021, July 12). The KNN Algorithm - Explanation, Opportunities, Limitations. Neptune.ai. https://neptune.ai/blog/knn-algorithm-explanation-opportunities-limitations\n",
    "\n",
    "Nelson, D. (2020, February 23). What is a KNN (K-Nearest Neighbors)? Unite.AI. https://www.unite.ai/what-is-k-nearest-neighbors/\n",
    "\n",
    "Sharma, P. (2019, August 25). Why is scaling required in KNN and K-Means? Medium. https://medium.com/analytics-vidhya/why-is-scaling-required-in-knn-and-k-means-8129e4d88ed7"
   ]
  }
 ],
 "metadata": {
  "kernelspec": {
   "display_name": "Python 3 (ipykernel)",
   "language": "python",
   "name": "python3"
  },
  "language_info": {
   "codemirror_mode": {
    "name": "ipython",
    "version": 3
   },
   "file_extension": ".py",
   "mimetype": "text/x-python",
   "name": "python",
   "nbconvert_exporter": "python",
   "pygments_lexer": "ipython3",
   "version": "3.10.9"
  }
 },
 "nbformat": 4,
 "nbformat_minor": 5
}
