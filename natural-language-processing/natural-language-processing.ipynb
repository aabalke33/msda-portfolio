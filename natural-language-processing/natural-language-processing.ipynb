{
 "cells": [
  {
   "cell_type": "markdown",
   "id": "ee903c9e",
   "metadata": {},
   "source": [
    "# Sentiment Analysis Using Neural Networks\n",
    "\n",
    "Aaron Balke\n",
    "\n",
    "S# 011005116\n",
    "\n",
    "# Presentation\n",
    "\n",
    "https://youtu.be/2G2fAF3lKGc\n",
    "\n",
    "# Part I: Research Question\n",
    "\n",
    "## A1. Question\n",
    "\n",
    "For this assessment the research question is, \"Can a Nueral Network accurately classify a review as positive sentiment or negative sentiment using the provided dataset?\"\n",
    "\n",
    "## A2. Goals\n",
    "\n",
    "Classifying review sentiment requires a neural network in order to process complex natural language. If we are able to accurately classify sentiment, having a model that correctly predict new data with a 75% or greater accuracy, we could add a new sentiment feature to our dataset, which can be used in future analysis. The processing of this data is a stepping stone to future analysis and insights for our business.\n",
    "\n",
    "## A3. Neural Network\n",
    "\n",
    "A Neural Network is a type of machine learning model that uses nodes/nuerons to assist in complicated, multivariable predictions and classifications. For our analysis, we will be using a Recurrent Neural Network (RNN). An RNN is commonly used for sequential data problems, such as natural language processing, since it finds patterns between current and prior inputs. This is as opposed to CNNs which are used for spacial data such as images. (IBM)\n",
    "\n",
    "# Part II: Data Preparation\n",
    "\n",
    "## B1. Exploratory Data Analysis\n",
    "\n",
    "### Data Preprocessing\n",
    "1. Load Libraries and Data\n",
    "2. Add Source Column to tell which CSV the record came from\n",
    "3. Create a Merged Dataframe"
   ]
  },
  {
   "cell_type": "code",
   "execution_count": 1,
   "id": "8313c2b1",
   "metadata": {
    "scrolled": false
   },
   "outputs": [
    {
     "name": "stdout",
     "output_type": "stream",
     "text": [
      "Requirement already satisfied: emoji in c:\\users\\aaron\\anaconda3\\lib\\site-packages (2.8.0)\n"
     ]
    },
    {
     "name": "stderr",
     "output_type": "stream",
     "text": [
      "[nltk_data] Downloading package punkt to\n",
      "[nltk_data]     C:\\Users\\Aaron\\AppData\\Roaming\\nltk_data...\n",
      "[nltk_data]   Package punkt is already up-to-date!\n",
      "[nltk_data] Downloading package stopwords to\n",
      "[nltk_data]     C:\\Users\\Aaron\\AppData\\Roaming\\nltk_data...\n",
      "[nltk_data]   Package stopwords is already up-to-date!\n"
     ]
    }
   ],
   "source": [
    "# Python Libraries\n",
    "import re\n",
    "import math\n",
    "from collections import Counter\n",
    "\n",
    "# The usual Data Libraries\n",
    "import pandas as pd\n",
    "import numpy as np\n",
    "import matplotlib.pyplot as plt\n",
    "import seaborn as sns\n",
    "from sklearn.model_selection import train_test_split\n",
    "\n",
    "# Sklearn Libraries will be used to evaluate model\n",
    "from sklearn.metrics import ConfusionMatrixDisplay, confusion_matrix\n",
    "from sklearn import metrics\n",
    "\n",
    "# Emoji Library\n",
    "!pip install emoji\n",
    "import emoji\n",
    "\n",
    "# Tensorflow\n",
    "import tensorflow as tf\n",
    "from tensorflow import keras\n",
    "from tensorflow.keras.preprocessing.text import Tokenizer\n",
    "from tensorflow.keras.preprocessing.sequence import pad_sequences\n",
    "from tensorflow.keras.layers import Dense, Embedding, GlobalAveragePooling1D\n",
    "from tensorflow.keras.models import Sequential\n",
    "from tensorflow.keras.callbacks import EarlyStopping\n",
    "\n",
    "# nltk\n",
    "import nltk\n",
    "nltk.download('punkt')\n",
    "nltk.download('stopwords')\n",
    "from nltk.corpus import stopwords\n",
    "from nltk.tokenize import word_tokenize\n",
    "\n",
    "# Import Data\n",
    "df_amaz = pd.read_csv('../data/amazon_cells_labelled.txt',\n",
    "                      delimiter=\"\\t\",\n",
    "                      names=['Review','Type'],\n",
    "                      encoding='utf8'\n",
    "                      )\n",
    "df_imdb = pd.read_csv('../data/imdb_labelled.txt',\n",
    "                      delimiter=\"\\t\",\n",
    "                      names=['Review','Type'],\n",
    "                      encoding='utf8'\n",
    "                      )\n",
    "df_yelp = pd.read_csv('../data/yelp_labelled.txt',\n",
    "                      delimiter=\"\\t\",\n",
    "                      names=['Review','Type'],\n",
    "                      encoding='utf8'\n",
    "                      )"
   ]
  },
  {
   "cell_type": "code",
   "execution_count": 2,
   "id": "f347cbe2",
   "metadata": {},
   "outputs": [],
   "source": [
    "np.random.seed(seed=100)\n",
    "tf.random.set_seed(100)"
   ]
  },
  {
   "cell_type": "code",
   "execution_count": 3,
   "id": "4550e22a",
   "metadata": {},
   "outputs": [],
   "source": [
    "# Add Source Feature to Dataframes\n",
    "df_amaz['Source'] = \"Amazon\"\n",
    "df_imdb['Source'] = \"Imdb\"\n",
    "df_yelp['Source'] = \"Yelp\"\n",
    "\n",
    "# Merge Dataframes\n",
    "df_merged = pd.concat([df_amaz, df_imdb, df_yelp], ignore_index=True, sort=False)"
   ]
  },
  {
   "cell_type": "markdown",
   "id": "66aedc78",
   "metadata": {},
   "source": [
    "### Unusual Characters\n",
    "\n",
    "We have to know which characters are included in our dataset, the differences between unicode and ascii can cause computing problems, particularly in lower level computing and machine learning. Additionally, some characters are not obvious, such as the difference between a tab character and a newline, which both are whitespace characters."
   ]
  },
  {
   "cell_type": "code",
   "execution_count": 4,
   "id": "88e3cbdf",
   "metadata": {},
   "outputs": [
    {
     "name": "stdout",
     "output_type": "stream",
     "text": [
      "Unique Characters:  \t \n",
      "   ! \" # $ % & ' ( ) * + , - . / 0 1 2 3 4 5 6 7 8 9 : ; ? A B C D E F G H I J K L M N O P Q R S T U V W X Y Z [ ] a b c d e f g h i j k l m n o p q r s t u v w x y z ",
      "   å é ê\n",
      "\n",
      "Unusual Characters: \t \n",
      " ",
      "   å é ê\n",
      "\n",
      "Unusual Characters (Decimal Values):\n",
      " 9 10 133 150 151 229 233 234\n",
      "\n",
      "Number of Unique Emojis:\n",
      " 0\n"
     ]
    }
   ],
   "source": [
    "# Checks for Unusual Characters & Emojis\n",
    "# Sets are used for element uniqueness\n",
    "\n",
    "def extract_emojis(s):\n",
    "    return ''.join(c for c in s if c in emoji.EMOJI_DATA)\n",
    "\n",
    "unique_chars = []\n",
    "emojis = set()\n",
    "\n",
    "for review in df_merged.Review:\n",
    "    emojis.add(extract_emojis(review))\n",
    "    review_chars = list(set(review))\n",
    "    unique_chars = list(set(unique_chars + review_chars))\n",
    "\n",
    "unique_chars.sort()\n",
    "\n",
    "unusual_chars = []\n",
    "unusual_chars_dec = []\n",
    "\n",
    "for char in unique_chars:\n",
    "    if re.match('[^A-Za-z\\d!\"#$%&\\'()*+,-./:;<=>?@[\\\\]^_`{|}~ ]+', char):\n",
    "        unusual_chars.append(char)\n",
    "        unusual_chars_dec.append(ord(char))\n",
    "\n",
    "print(\"Unique Characters: \", *unique_chars, sep=\" \") \n",
    "print(\"\\nUnusual Characters:\", *unusual_chars, sep=\" \")\n",
    "print(f\"\\nUnusual Characters (Decimal Values):\\n\", *unusual_chars_dec, sep=\" \")\n",
    "print(f\"\\nNumber of Unique Emojis:\\n {len(emojis) - 1}\")"
   ]
  },
  {
   "cell_type": "markdown",
   "id": "dfee6c0a",
   "metadata": {},
   "source": [
    "Unusual Unicode Characters include:\n",
    "1. 2 whitespace chars '\\t' and '\\n'\n",
    "2. Misc Next Line & Guarded Area Chars & '\\x85', '\\x96', '\\x97'\n",
    "3. Non-English Chars 'å', 'é', 'ê'\n",
    "\n",
    "There are no emojis in the text\n",
    "\n",
    "We will next remove all punctuation and unusual characters"
   ]
  },
  {
   "cell_type": "code",
   "execution_count": 5,
   "id": "a0ee428d",
   "metadata": {},
   "outputs": [],
   "source": [
    "# Keep Only Alpha Characters and Spaces\n",
    "df_merged.Review.replace('[^A-Za-z ]+', '', regex=True, inplace=True)"
   ]
  },
  {
   "cell_type": "markdown",
   "id": "e2ca6c6c",
   "metadata": {},
   "source": [
    "### Set Lowercase\n",
    "\n",
    "This is easier to complete now rather than after other preparation and tokenization."
   ]
  },
  {
   "cell_type": "code",
   "execution_count": 6,
   "id": "f77e78ad",
   "metadata": {},
   "outputs": [],
   "source": [
    "# For Each Review in DataFrame, Run String Method Lower on it\n",
    "df_merged.loc[:, 'Review'] = df_merged.Review.apply((lambda x: x.lower()))"
   ]
  },
  {
   "cell_type": "markdown",
   "id": "40b282ed",
   "metadata": {},
   "source": [
    "### Vocabulary Size\n",
    "\n",
    "The vocabulary size is important for our RNN model, each unique word has to be tokenized for processing by the Recurrent Neural Network, and we will have to define the dimensionality of the data for the model to process all words.\n",
    "\n",
    "Note: This is pulled almost directly from the Datacamp NLP Resource, see Sources."
   ]
  },
  {
   "cell_type": "code",
   "execution_count": 7,
   "id": "41b2ea86",
   "metadata": {},
   "outputs": [
    {
     "name": "stdout",
     "output_type": "stream",
     "text": [
      "Vocabulary Size: 5301 Unique Words\n"
     ]
    }
   ],
   "source": [
    "vocab = []\n",
    "max_review_words = [0,0]\n",
    "\n",
    "for i, review in enumerate(df_merged.Review):\n",
    "    review_words = word_tokenize(review)\n",
    "    \n",
    "    # Get Index, and Size of Largest Review, by Words\n",
    "    if len(review_words) > max_review_words[1]:\n",
    "        max_review_words[0] = i\n",
    "        max_review_words[1] = len(review_words)\n",
    "    vocab = vocab + review_words\n",
    "    \n",
    "vocab_counter = Counter(vocab)\n",
    "\n",
    "print(f\"Vocabulary Size: {len(vocab_counter)} Unique Words\")"
   ]
  },
  {
   "cell_type": "markdown",
   "id": "6593ff12",
   "metadata": {},
   "source": [
    "### Embedding Size\n",
    "\n",
    "According to Google's Developer Blog, for Natural Language Processing, the embedding size should be the sqrt of the sqrt of the vocabulary length. Embedding Size is used to define the output dimension of the Embedding Layer, which needs to be small enough to allow following layers to calculate effectively, without unnecessary data."
   ]
  },
  {
   "cell_type": "code",
   "execution_count": 8,
   "id": "c69d8510",
   "metadata": {},
   "outputs": [
    {
     "name": "stdout",
     "output_type": "stream",
     "text": [
      "Embedding Length: 9\n"
     ]
    }
   ],
   "source": [
    "embedding_length = round(len(vocab_counter) ** 0.25)\n",
    "print(f\"Embedding Length: {embedding_length}\")"
   ]
  },
  {
   "cell_type": "markdown",
   "id": "f3e0c256",
   "metadata": {},
   "source": [
    "### Maximum Sequence Length\n",
    "\n",
    "Should be length of longest sentence, in words, other sentences will be padded to this length, which is why we need the value. (Brownlee)"
   ]
  },
  {
   "cell_type": "code",
   "execution_count": 9,
   "id": "4d132a7e",
   "metadata": {},
   "outputs": [
    {
     "name": "stdout",
     "output_type": "stream",
     "text": [
      "The Longest Review (Index: 1136) has: 1282 Words\n",
      "The Maximum Sequence Length should be: 1282\n"
     ]
    }
   ],
   "source": [
    "# Check Vocabulary Size for \n",
    "print(f\"The Longest Review (Index: {max_review_words[0]}) has: {max_review_words[1]} Words\")\n",
    "print(f\"The Maximum Sequence Length should be: {max_review_words[1]}\")"
   ]
  },
  {
   "cell_type": "markdown",
   "id": "157535ff",
   "metadata": {},
   "source": [
    "### Remove Stop Words\n",
    "\n",
    "Stop Words are common words that will not provide substanial value to the model. They need to be removed to limit noise."
   ]
  },
  {
   "cell_type": "code",
   "execution_count": 10,
   "id": "21d2128a",
   "metadata": {},
   "outputs": [],
   "source": [
    "# Initiate list of stop words\n",
    "stop = stopwords.words('english')\n",
    "\n",
    "# For word in review, if the word is in stop words remove\n",
    "def remove_stops(review):\n",
    "    words = [word for word in review.split() if word not in stop]\n",
    "    return \" \".join(words)\n",
    "\n",
    "# For each review in DataFrame run remove_stops function\n",
    "df_merged.loc[:, 'Review'] = df_merged.Review.apply((lambda review: remove_stops(review)))"
   ]
  },
  {
   "cell_type": "markdown",
   "id": "976b142a",
   "metadata": {},
   "source": [
    "### Run Longest Word Procedures Again\n",
    "\n",
    "Run Maximum sequence length again, this time without stop words."
   ]
  },
  {
   "cell_type": "code",
   "execution_count": 11,
   "id": "7537e1b5",
   "metadata": {},
   "outputs": [
    {
     "name": "stdout",
     "output_type": "stream",
     "text": [
      "Vocabulary Size: 5179 Unique Words\n",
      "Embedding Length: 8\n",
      "After Removing Stopwords, The Longest Review (Index: 1136) has: 686 Words\n",
      "After Removing Stopwords, The Maximum Sequence Length should be: 686\n"
     ]
    }
   ],
   "source": [
    "# Vocabulary Size\n",
    "vocab = []\n",
    "max_review_words = [0,0]\n",
    "\n",
    "for i, review in enumerate(df_merged.Review):\n",
    "    review_words = word_tokenize(review)\n",
    "    \n",
    "    # Get Index, and Size of Largest Review, by Words\n",
    "    if len(review_words) > max_review_words[1]:\n",
    "        max_review_words[0] = i\n",
    "        max_review_words[1] = len(review_words)\n",
    "    vocab = vocab + review_words\n",
    "\n",
    "vocab_counter = Counter(vocab)\n",
    "print(f\"Vocabulary Size: {len(vocab_counter)} Unique Words\")\n",
    "\n",
    "\n",
    "# Embedding Size\n",
    "embedding_length = round(len(vocab_counter) ** 0.25)\n",
    "print(f\"Embedding Length: {embedding_length}\")\n",
    "\n",
    "# Maximum Sequence Length\n",
    "print(f\"After Removing Stopwords, The Longest Review (Index: \"\n",
    "      f\"{max_review_words[0]}) has: {max_review_words[1]} Words\")\n",
    "print(f\"After Removing Stopwords, The Maximum Sequence Length should be: \"\n",
    "      f\"{max_review_words[1]}\")"
   ]
  },
  {
   "cell_type": "markdown",
   "id": "6ba65190",
   "metadata": {},
   "source": [
    "# B2. Tokenization Process\n",
    "\n",
    "The tokenization process splits the complicated reviews into individual chunks of information that can be compared across reviews. In our case these are words, that are converted into positive integers to be fed into the model. Our model will require sequences of fixed size, and only positive values. The Tokenizer exports only positive integers by default. Padding will be used to make all sequences the same fixed length, and is required since the Neural Network requires same shape data. The Tokenizer and padding preprocessing objects are provided by the Tensorflow library."
   ]
  },
  {
   "cell_type": "code",
   "execution_count": 12,
   "id": "ac49a76b",
   "metadata": {},
   "outputs": [],
   "source": [
    "# Train, Validation and Test Split (Train 60%, Validate 20%, Test 20% ), See B5 for details\n",
    "X_train, X_test, y_train, y_test = train_test_split(\n",
    "    df_merged['Review'],\n",
    "    df_merged['Type'],\n",
    "    test_size=0.4,\n",
    "    random_state=100\n",
    ")\n",
    "X_validation, X_test, y_validation, y_test = train_test_split(\n",
    "    df_merged['Review'],\n",
    "    df_merged['Type'],\n",
    "    test_size=0.5,\n",
    "    random_state=100\n",
    ")"
   ]
  },
  {
   "cell_type": "code",
   "execution_count": 13,
   "id": "e928fc9e",
   "metadata": {},
   "outputs": [],
   "source": [
    "# Create & Fit Tokenizer Object to training data\n",
    "tokenizer = Tokenizer(num_words=len(vocab_counter), oov_token='<OOV>')\n",
    "tokenizer.fit_on_texts(X_train)\n",
    "word_index = tokenizer.word_index\n",
    "\n",
    "# Convert Reviews into Sequences of Token Ids\n",
    "training_sequences = tokenizer.texts_to_sequences(X_train)\n",
    "testing_sequences = tokenizer.texts_to_sequences(X_test)\n",
    "validation_sequences = tokenizer.texts_to_sequences(X_validation)"
   ]
  },
  {
   "cell_type": "markdown",
   "id": "f5285c8c",
   "metadata": {},
   "source": [
    "# B3. Padding\n",
    "\n",
    "Our model will require all sequences to be the same fixed length. Our longest sequence will be our chosen length, as to not truncate any data. All other sequences will be padded to match the length of the longest sequence. The padding will occur before the sequence. This is the default, and with no truncating, does not provide a different result compared to padding afterwards (Tensorflow)."
   ]
  },
  {
   "cell_type": "code",
   "execution_count": 14,
   "id": "52675dec",
   "metadata": {},
   "outputs": [
    {
     "name": "stdout",
     "output_type": "stream",
     "text": [
      "0 0 0 0 0 0 0 0 0 0 0 0 0 0 0 0 0 0 0 0 0 0 0 0 0 0 0 0 0 0 0 0 0 0 0 0 0 0 0 0 0 0 0 0 0 0 0 0 0 0 0 0 0 0 0 0 0 0 0 0 0 0 0 0 0 0 0 0 0 0 0 0 0 0 0 0 0 0 0 0 0 0 0 0 0 0 0 0 0 0 0 0 0 0 0 0 0 0 0 0 0 0 0 0 0 0 0 0 0 0 0 0 0 0 0 0 0 0 0 0 0 0 0 0 0 0 0 0 0 0 0 0 0 0 0 0 0 0 0 0 0 0 0 0 0 0 0 0 0 0 0 0 0 0 0 0 0 0 0 0 0 0 0 0 0 0 0 0 0 0 0 0 0 0 0 0 0 0 0 0 0 0 0 0 0 0 0 0 0 0 0 0 0 0 0 0 0 0 0 0 0 0 0 0 0 0 0 0 0 0 0 0 0 0 0 0 0 0 0 0 0 0 0 0 0 0 0 0 0 0 0 0 0 0 0 0 0 0 0 0 0 0 0 0 0 0 0 0 0 0 0 0 0 0 0 0 0 0 0 0 0 0 0 0 0 0 0 0 0 0 0 0 0 0 0 0 0 0 0 0 0 0 0 0 0 0 0 0 0 0 0 0 0 0 0 0 0 0 0 0 0 0 0 0 0 0 0 0 0 0 0 0 0 0 0 0 0 0 0 0 0 0 0 0 0 0 0 0 0 0 0 0 0 0 0 0 0 0 0 0 0 0 0 0 0 0 0 0 0 0 0 0 0 0 0 0 0 0 0 0 0 0 0 0 0 0 0 0 0 0 0 0 0 0 0 0 0 0 0 0 0 0 0 0 0 0 0 0 0 0 0 0 0 0 0 0 0 0 0 0 0 0 0 0 0 0 0 0 0 0 0 0 0 0 0 0 0 0 0 0 0 0 0 0 0 0 0 0 0 0 0 0 0 0 0 0 0 0 0 0 0 0 0 0 0 0 0 0 0 0 0 0 0 0 0 0 0 0 0 0 0 0 0 0 0 0 0 0 0 0 0 0 0 0 0 0 0 0 0 0 0 0 0 0 0 0 0 0 0 0 0 0 0 0 0 0 0 0 0 0 0 0 0 0 0 0 0 0 0 0 0 0 0 0 0 0 0 0 0 0 0 0 0 0 0 0 0 0 0 0 0 0 0 0 0 0 0 0 0 0 0 0 0 0 0 0 0 0 0 0 0 0 0 0 0 0 0 0 0 0 0 0 0 0 0 0 0 0 0 0 0 0 0 0 0 0 0 0 0 0 0 0 0 0 0 0 0 0 0 0 0 0 0 0 0 0 0 0 0 0 0 0 0 0 0 0 0 0 0 0 0 0 0 0 0 0 0 0 0 0 0 0 0 0 0 0 0 0 0 0 0 0 0 0 0 0 0 0 0 0 0 0 0 0 0 0 0 0 0 0 0 0 0 0 0 0 0 0 0 0 0 0 0 0 0 0 0 0 0 0 0 0 0 0 0 0 873 874 40 1441 69 383 1442 40 273 480\n"
     ]
    }
   ],
   "source": [
    "# Training has longest review, need to calc first to get same shape for testing\n",
    "training_padded = pad_sequences(training_sequences)\n",
    "testing_padded = pad_sequences(testing_sequences, maxlen=training_padded.shape[1])\n",
    "validation_padded = pad_sequences(validation_sequences, maxlen=training_padded.shape[1])\n",
    "\n",
    "# The first Training Sequence, Padded\n",
    "print(*training_padded[0])"
   ]
  },
  {
   "cell_type": "markdown",
   "id": "26a98b73",
   "metadata": {},
   "source": [
    "# B4. Categories and Activation Function\n",
    "\n",
    "The output values will be a discrete binary choice. 0: Bad Review, 1: Good Review. \n",
    "Because of this the final dense layer will have a single node, and a sigmoid activation function. The sigmoid function will limit values to between 0 and 1. Representing a probability of being a Good Review.\n",
    "\n",
    "If the output was categorical, the number of nodes would match the amount of categories. Additionally, a softmax activation function would be used, providing a probability for each node/category. (Datacamp)\n",
    "\n",
    "# B5. Data Preparation\n",
    "\n",
    "Previously to prepare the dataset:\n",
    "1. Emojis, and Unusual characters are removed from the dataset\n",
    "2. Dataset is converted to lowercase\n",
    "3. Stop Words are removed from the dataset\n",
    "4. Split Data:\n",
    "    1. A Training Split: This is the largest split and is used to train the supervised model to classify reviews as either positive or negative sentiment.\n",
    "    2. A Validation Split: This is a split used to evaluate the accuracy and loss of each epoch. This allows us to see when the model is overfitting or underfitting.\n",
    "    3. A Testing Split: This is the final split used after the model has been trained. This works as the \"Real World Data\" that the model has not seen yet, and will allow us to evaluate accuracy, accurately. The validation split cannot be used since it was used to guide the model, and will have a higher score than the Test Split.\n",
    "\n",
    "    I decided to used a 60% Training, 20% Validation and 20% Testing split. Based on research, for the size of our dataset, a validation and testing size of 10% would cause to much variance inside those sections, on the opposite side, a training split of 50% would begin to cause to much variance on that side. So a split between 50%/25%/25% and 80%/10%/10% seemed optimal. \n",
    "5. Words are tokenized in the datasets\n",
    "6. Sequences are Padded to make all sequences the same shape\n",
    "\n",
    "## B6. Data Export"
   ]
  },
  {
   "cell_type": "code",
   "execution_count": 15,
   "id": "2097df53",
   "metadata": {},
   "outputs": [],
   "source": [
    "# Export Data, prior to splits for ease of use\n",
    "df_merged.to_csv('d213_task2_clean.csv')"
   ]
  },
  {
   "cell_type": "markdown",
   "id": "a541a692",
   "metadata": {},
   "source": [
    "# Part III: Network Architecture\n",
    "\n",
    "## C1. Initialize Model"
   ]
  },
  {
   "cell_type": "code",
   "execution_count": 16,
   "id": "f7cab99f",
   "metadata": {},
   "outputs": [],
   "source": [
    "# Use this to clear model during testing\n",
    "keras.backend.clear_session()\n",
    "\n",
    "# Use this to load previously saved model\n",
    "# model = keras.models.load_model('d213_task2_model.h5')"
   ]
  },
  {
   "cell_type": "code",
   "execution_count": 17,
   "id": "cbe8d1ad",
   "metadata": {},
   "outputs": [
    {
     "name": "stdout",
     "output_type": "stream",
     "text": [
      "Model: \"sequential\"\n",
      "_________________________________________________________________\n",
      " Layer (type)                Output Shape              Param #   \n",
      "=================================================================\n",
      " embedding (Embedding)       (None, 686, 7)            27454     \n",
      "                                                                 \n",
      " global_average_pooling1d (G  (None, 7)                0         \n",
      " lobalAveragePooling1D)                                          \n",
      "                                                                 \n",
      " dense (Dense)               (None, 6)                 48        \n",
      "                                                                 \n",
      " dense_1 (Dense)             (None, 1)                 7         \n",
      "                                                                 \n",
      "=================================================================\n",
      "Total params: 27,509\n",
      "Trainable params: 27,509\n",
      "Non-trainable params: 0\n",
      "_________________________________________________________________\n"
     ]
    }
   ],
   "source": [
    "# Model Dimensional Info\n",
    "n_cols = training_padded.shape[1]\n",
    "e_dim = math.floor(len(word_index)**0.25)\n",
    "\n",
    "# Create Architecture of Model\n",
    "model = Sequential()\n",
    "model.add(Embedding(len(word_index)+1, e_dim, input_length=n_cols))\n",
    "model.add(GlobalAveragePooling1D())\n",
    "model.add(Dense(6, activation='relu'))\n",
    "model.add(Dense(1, activation='sigmoid'))\n",
    "\n",
    "# Model Summary\n",
    "model.summary()"
   ]
  },
  {
   "cell_type": "code",
   "execution_count": 18,
   "id": "4bd576ca",
   "metadata": {},
   "outputs": [],
   "source": [
    "# Compile Model\n",
    "model.compile(optimizer='adam', loss=\"binary_crossentropy\", metrics=['accuracy'])"
   ]
  },
  {
   "cell_type": "markdown",
   "id": "a1f8afeb",
   "metadata": {},
   "source": [
    "# C2. & C3. Model Architecture\n",
    "\n",
    "## Building\n",
    "\n",
    "A Sequential Model was chosen since there would be one input and one output with a linear topology. 4 Layers were chosen, I experimented with more and less and found this amount to be optimal.\n",
    "\n",
    "### The Embedding Layer\n",
    "The embeddings layer is first used to turn integers into dense fixed-size vectors for the next layers to accurately use.\n",
    "\n",
    "The first parameter defines the input dimension, in our case this is the vocabulary size.\n",
    "\n",
    "The second parameter defines the output dimension, according to Google this should be ~ the sqrt of the sqrt of the vocabulary size (See previous Embedding Size section).\n",
    "\n",
    "The final parameter is the input length, which defines the size of each sequence. This is the length of the longest review in our dataset, in words, which all reviews should match since we padded them.\n",
    "\n",
    "### GlobalAveragePooling1D\n",
    "\n",
    "The GlobalAveragePooling1D layer converts the embedding layer output, a 3D Tensor DataType, to a 2D Tensor Datatype. This 'flattens' the data. Flattening the data removes unnecessary data from the model, allowing the next layers to calculate more effectively.\n",
    "\n",
    "### Dense 1\n",
    "\n",
    "The first Densely connected layer has 6 nodes, I experimented with more and less and found 6 to be optimal. The Relu activation function is used to keep a 'strong' model. other functions on this layer would cause a vanishing gradient problem.\n",
    "\n",
    "### Dense 2\n",
    "\n",
    "The final Dense layer converts the multiple nodes into 1 final binary node. Since the desired output is a binary \"Good Review?\" question, we just need probability values between 0 and 1. This is the role of the sigmoid function. If this was a categorical dataset with more than a yes/no question, a softmax function would be used, with the number of layers equaling the number of choices.\n",
    "\n",
    "## Compiling\n",
    "\n",
    "The model is compiled using:\n",
    "\n",
    "ADAM Optimizer: Adam is used to automate most of the optimization, including choosing a learning rate. It is a good option for noisy datasets, such as ours. (Cornell)\n",
    "\n",
    "Binary Crossentropy: Crossentrophy Loss Functions are used when building probabilistic distribution models, such as categorical or binary. In our situation we are using binary crossentrophy since our model output is binary. If we had a categorical output we would use categorical crossentrophy. (Wikipedia)\n",
    "\n",
    "Accuracy is used to evaluate the model, since with accuracy we can not only compare the training data, but the testing as well. This allows us to see if the model is just bad or is overfitting the training data, lossing accuracy on testing data.\n",
    "\n",
    "Stopping Criteria: A Stopping Criteria of Validation Accuracy is used, since from my loss function it is obvious we are not having an overfitting problem. A high patience value of 20 was chosen, this was due to inconsistencies with a lower patience value of 10 and below. Sometimes, the model has trouble, \"getting up and going\". See D1 for a more indepth explination.\n",
    "\n",
    "## Fitting\n",
    "\n",
    "75 Epochs are used in our model to get the highest accuracy while avoiding overfitting. See Stopping Criteria for more info on the model fitting process."
   ]
  },
  {
   "cell_type": "code",
   "execution_count": 19,
   "id": "7e869664",
   "metadata": {
    "scrolled": false
   },
   "outputs": [
    {
     "name": "stdout",
     "output_type": "stream",
     "text": [
      "Epoch 1/75\n",
      "52/52 [==============================] - 2s 12ms/step - loss: 0.6933 - accuracy: 0.4939 - val_loss: 0.6931 - val_accuracy: 0.4993\n",
      "Epoch 2/75\n",
      "52/52 [==============================] - 0s 5ms/step - loss: 0.6932 - accuracy: 0.4945 - val_loss: 0.6930 - val_accuracy: 0.5095\n",
      "Epoch 3/75\n",
      "52/52 [==============================] - 0s 5ms/step - loss: 0.6931 - accuracy: 0.5042 - val_loss: 0.6930 - val_accuracy: 0.5102\n",
      "Epoch 4/75\n",
      "52/52 [==============================] - 0s 7ms/step - loss: 0.6931 - accuracy: 0.5146 - val_loss: 0.6930 - val_accuracy: 0.5102\n",
      "Epoch 5/75\n",
      "52/52 [==============================] - 0s 5ms/step - loss: 0.6932 - accuracy: 0.5042 - val_loss: 0.6930 - val_accuracy: 0.5102\n",
      "Epoch 6/75\n",
      "52/52 [==============================] - 0s 5ms/step - loss: 0.6931 - accuracy: 0.5042 - val_loss: 0.6930 - val_accuracy: 0.5102\n",
      "Epoch 7/75\n",
      "52/52 [==============================] - 0s 5ms/step - loss: 0.6931 - accuracy: 0.5042 - val_loss: 0.6930 - val_accuracy: 0.5102\n",
      "Epoch 8/75\n",
      "52/52 [==============================] - 0s 5ms/step - loss: 0.6931 - accuracy: 0.5042 - val_loss: 0.6930 - val_accuracy: 0.5102\n",
      "Epoch 9/75\n",
      "52/52 [==============================] - 0s 5ms/step - loss: 0.6931 - accuracy: 0.5042 - val_loss: 0.6930 - val_accuracy: 0.5102\n",
      "Epoch 10/75\n",
      "52/52 [==============================] - 0s 5ms/step - loss: 0.6931 - accuracy: 0.5042 - val_loss: 0.6930 - val_accuracy: 0.5102\n",
      "Epoch 11/75\n",
      "52/52 [==============================] - 0s 5ms/step - loss: 0.6931 - accuracy: 0.5042 - val_loss: 0.6930 - val_accuracy: 0.5102\n",
      "Epoch 12/75\n",
      "52/52 [==============================] - 0s 6ms/step - loss: 0.6931 - accuracy: 0.5042 - val_loss: 0.6930 - val_accuracy: 0.5102\n",
      "Epoch 13/75\n",
      "52/52 [==============================] - 0s 5ms/step - loss: 0.6931 - accuracy: 0.5049 - val_loss: 0.6930 - val_accuracy: 0.5102\n",
      "Epoch 14/75\n",
      "52/52 [==============================] - 0s 5ms/step - loss: 0.6930 - accuracy: 0.5042 - val_loss: 0.6929 - val_accuracy: 0.5102\n",
      "Epoch 15/75\n",
      "52/52 [==============================] - 0s 5ms/step - loss: 0.6930 - accuracy: 0.5049 - val_loss: 0.6930 - val_accuracy: 0.5102\n",
      "Epoch 16/75\n",
      "52/52 [==============================] - 0s 5ms/step - loss: 0.6929 - accuracy: 0.5049 - val_loss: 0.6929 - val_accuracy: 0.5102\n",
      "Epoch 17/75\n",
      "52/52 [==============================] - 0s 5ms/step - loss: 0.6929 - accuracy: 0.5049 - val_loss: 0.6929 - val_accuracy: 0.5102\n",
      "Epoch 18/75\n",
      "52/52 [==============================] - 0s 5ms/step - loss: 0.6928 - accuracy: 0.5061 - val_loss: 0.6927 - val_accuracy: 0.5102\n",
      "Epoch 19/75\n",
      "52/52 [==============================] - 0s 5ms/step - loss: 0.6927 - accuracy: 0.5164 - val_loss: 0.6926 - val_accuracy: 0.5102\n",
      "Epoch 20/75\n",
      "52/52 [==============================] - 0s 5ms/step - loss: 0.6925 - accuracy: 0.5049 - val_loss: 0.6925 - val_accuracy: 0.5102\n",
      "Epoch 21/75\n",
      "52/52 [==============================] - 0s 5ms/step - loss: 0.6925 - accuracy: 0.5382 - val_loss: 0.6924 - val_accuracy: 0.5459\n",
      "Epoch 22/75\n",
      "52/52 [==============================] - 0s 5ms/step - loss: 0.6924 - accuracy: 0.5225 - val_loss: 0.6921 - val_accuracy: 0.5102\n",
      "Epoch 23/75\n",
      "52/52 [==============================] - 0s 5ms/step - loss: 0.6920 - accuracy: 0.5091 - val_loss: 0.6919 - val_accuracy: 0.5146\n",
      "Epoch 24/75\n",
      "52/52 [==============================] - 0s 5ms/step - loss: 0.6918 - accuracy: 0.5564 - val_loss: 0.6916 - val_accuracy: 0.5102\n",
      "Epoch 25/75\n",
      "52/52 [==============================] - 0s 5ms/step - loss: 0.6917 - accuracy: 0.5291 - val_loss: 0.6913 - val_accuracy: 0.5116\n",
      "Epoch 26/75\n",
      "52/52 [==============================] - 0s 5ms/step - loss: 0.6910 - accuracy: 0.5807 - val_loss: 0.6910 - val_accuracy: 0.6849\n",
      "Epoch 27/75\n",
      "52/52 [==============================] - 0s 6ms/step - loss: 0.6908 - accuracy: 0.6256 - val_loss: 0.6906 - val_accuracy: 0.6368\n",
      "Epoch 28/75\n",
      "52/52 [==============================] - 0s 5ms/step - loss: 0.6902 - accuracy: 0.5316 - val_loss: 0.6898 - val_accuracy: 0.5328\n",
      "Epoch 29/75\n",
      "52/52 [==============================] - 0s 5ms/step - loss: 0.6895 - accuracy: 0.5407 - val_loss: 0.6892 - val_accuracy: 0.7460\n",
      "Epoch 30/75\n",
      "52/52 [==============================] - 0s 5ms/step - loss: 0.6888 - accuracy: 0.6038 - val_loss: 0.6884 - val_accuracy: 0.9330\n",
      "Epoch 31/75\n",
      "52/52 [==============================] - 0s 5ms/step - loss: 0.6887 - accuracy: 0.5928 - val_loss: 0.6876 - val_accuracy: 0.7737\n",
      "Epoch 32/75\n",
      "52/52 [==============================] - 0s 5ms/step - loss: 0.6868 - accuracy: 0.5534 - val_loss: 0.6862 - val_accuracy: 0.4927\n",
      "Epoch 33/75\n",
      "52/52 [==============================] - 0s 5ms/step - loss: 0.6847 - accuracy: 0.6238 - val_loss: 0.6828 - val_accuracy: 0.6194\n",
      "Epoch 34/75\n",
      "52/52 [==============================] - 0s 5ms/step - loss: 0.6815 - accuracy: 0.5601 - val_loss: 0.6797 - val_accuracy: 0.8443\n",
      "Epoch 35/75\n",
      "52/52 [==============================] - 0s 7ms/step - loss: 0.6784 - accuracy: 0.7676 - val_loss: 0.6775 - val_accuracy: 0.5400\n",
      "Epoch 36/75\n",
      "52/52 [==============================] - 0s 5ms/step - loss: 0.6752 - accuracy: 0.7670 - val_loss: 0.6727 - val_accuracy: 0.7969\n",
      "Epoch 37/75\n",
      "52/52 [==============================] - 0s 5ms/step - loss: 0.6726 - accuracy: 0.6675 - val_loss: 0.6707 - val_accuracy: 0.5218\n",
      "Epoch 38/75\n",
      "52/52 [==============================] - 0s 5ms/step - loss: 0.6668 - accuracy: 0.6608 - val_loss: 0.6623 - val_accuracy: 0.8872\n",
      "Epoch 39/75\n",
      "52/52 [==============================] - 0s 5ms/step - loss: 0.6608 - accuracy: 0.7755 - val_loss: 0.6558 - val_accuracy: 0.9381\n",
      "Epoch 40/75\n",
      "52/52 [==============================] - 0s 5ms/step - loss: 0.6539 - accuracy: 0.8010 - val_loss: 0.6509 - val_accuracy: 0.7031\n",
      "Epoch 41/75\n",
      "52/52 [==============================] - 0s 5ms/step - loss: 0.6476 - accuracy: 0.7421 - val_loss: 0.6413 - val_accuracy: 0.9330\n",
      "Epoch 42/75\n",
      "52/52 [==============================] - 0s 5ms/step - loss: 0.6391 - accuracy: 0.8459 - val_loss: 0.6329 - val_accuracy: 0.9119\n",
      "Epoch 43/75\n",
      "52/52 [==============================] - 0s 5ms/step - loss: 0.6311 - accuracy: 0.8222 - val_loss: 0.6241 - val_accuracy: 0.9236\n",
      "Epoch 44/75\n",
      "52/52 [==============================] - 0s 5ms/step - loss: 0.6206 - accuracy: 0.8853 - val_loss: 0.6169 - val_accuracy: 0.7627\n",
      "Epoch 45/75\n",
      "52/52 [==============================] - 0s 5ms/step - loss: 0.6100 - accuracy: 0.8477 - val_loss: 0.6063 - val_accuracy: 0.8311\n",
      "Epoch 46/75\n",
      "52/52 [==============================] - 0s 5ms/step - loss: 0.6018 - accuracy: 0.8252 - val_loss: 0.5978 - val_accuracy: 0.7889\n",
      "Epoch 47/75\n",
      "52/52 [==============================] - 0s 5ms/step - loss: 0.5922 - accuracy: 0.8532 - val_loss: 0.5818 - val_accuracy: 0.9352\n",
      "Epoch 48/75\n",
      "52/52 [==============================] - 0s 5ms/step - loss: 0.5804 - accuracy: 0.8659 - val_loss: 0.5700 - val_accuracy: 0.9396\n",
      "Epoch 49/75\n",
      "52/52 [==============================] - 0s 5ms/step - loss: 0.5684 - accuracy: 0.8853 - val_loss: 0.5580 - val_accuracy: 0.9367\n",
      "Epoch 50/75\n",
      "52/52 [==============================] - 0s 6ms/step - loss: 0.5566 - accuracy: 0.8768 - val_loss: 0.5475 - val_accuracy: 0.8894\n",
      "Epoch 51/75\n",
      "52/52 [==============================] - 0s 5ms/step - loss: 0.5488 - accuracy: 0.8871 - val_loss: 0.5348 - val_accuracy: 0.9148\n",
      "Epoch 52/75\n",
      "52/52 [==============================] - 0s 5ms/step - loss: 0.5328 - accuracy: 0.8695 - val_loss: 0.5290 - val_accuracy: 0.8413\n",
      "Epoch 53/75\n",
      "52/52 [==============================] - 0s 5ms/step - loss: 0.5222 - accuracy: 0.8938 - val_loss: 0.5095 - val_accuracy: 0.9323\n",
      "Epoch 54/75\n",
      "52/52 [==============================] - 0s 5ms/step - loss: 0.5100 - accuracy: 0.8968 - val_loss: 0.5035 - val_accuracy: 0.8705\n",
      "Epoch 55/75\n",
      "52/52 [==============================] - 0s 5ms/step - loss: 0.4999 - accuracy: 0.8859 - val_loss: 0.4863 - val_accuracy: 0.9425\n",
      "Epoch 56/75\n",
      "52/52 [==============================] - 0s 5ms/step - loss: 0.4833 - accuracy: 0.9150 - val_loss: 0.4744 - val_accuracy: 0.9418\n",
      "Epoch 57/75\n",
      "52/52 [==============================] - 0s 5ms/step - loss: 0.4722 - accuracy: 0.9187 - val_loss: 0.4650 - val_accuracy: 0.9032\n",
      "Epoch 58/75\n",
      "52/52 [==============================] - 0s 5ms/step - loss: 0.4617 - accuracy: 0.9229 - val_loss: 0.4501 - val_accuracy: 0.9440\n",
      "Epoch 59/75\n",
      "52/52 [==============================] - 0s 5ms/step - loss: 0.4491 - accuracy: 0.9114 - val_loss: 0.4383 - val_accuracy: 0.9447\n",
      "Epoch 60/75\n",
      "52/52 [==============================] - 0s 5ms/step - loss: 0.4370 - accuracy: 0.9284 - val_loss: 0.4438 - val_accuracy: 0.8603\n",
      "Epoch 61/75\n",
      "52/52 [==============================] - 0s 5ms/step - loss: 0.4326 - accuracy: 0.9053 - val_loss: 0.4171 - val_accuracy: 0.9316\n",
      "Epoch 62/75\n",
      "52/52 [==============================] - 0s 7ms/step - loss: 0.4171 - accuracy: 0.9169 - val_loss: 0.4179 - val_accuracy: 0.8806\n",
      "Epoch 63/75\n",
      "52/52 [==============================] - 0s 6ms/step - loss: 0.4081 - accuracy: 0.9393 - val_loss: 0.3983 - val_accuracy: 0.9258\n",
      "Epoch 64/75\n",
      "52/52 [==============================] - 0s 5ms/step - loss: 0.3946 - accuracy: 0.9357 - val_loss: 0.3851 - val_accuracy: 0.9469\n",
      "Epoch 65/75\n",
      "52/52 [==============================] - 0s 5ms/step - loss: 0.3902 - accuracy: 0.9169 - val_loss: 0.3781 - val_accuracy: 0.9469\n",
      "Epoch 66/75\n",
      "52/52 [==============================] - 0s 5ms/step - loss: 0.3777 - accuracy: 0.9326 - val_loss: 0.3666 - val_accuracy: 0.9396\n",
      "Epoch 67/75\n",
      "52/52 [==============================] - 0s 5ms/step - loss: 0.3674 - accuracy: 0.9417 - val_loss: 0.3590 - val_accuracy: 0.9338\n",
      "Epoch 68/75\n",
      "52/52 [==============================] - 0s 5ms/step - loss: 0.3605 - accuracy: 0.9333 - val_loss: 0.3559 - val_accuracy: 0.9207\n",
      "Epoch 69/75\n",
      "52/52 [==============================] - 0s 5ms/step - loss: 0.3550 - accuracy: 0.9242 - val_loss: 0.3394 - val_accuracy: 0.9483\n",
      "Epoch 70/75\n",
      "52/52 [==============================] - 0s 5ms/step - loss: 0.3402 - accuracy: 0.9375 - val_loss: 0.3447 - val_accuracy: 0.9229\n",
      "Epoch 71/75\n",
      "52/52 [==============================] - 0s 5ms/step - loss: 0.3358 - accuracy: 0.9381 - val_loss: 0.3296 - val_accuracy: 0.9265\n",
      "Epoch 72/75\n",
      "52/52 [==============================] - 0s 5ms/step - loss: 0.3259 - accuracy: 0.9363 - val_loss: 0.3228 - val_accuracy: 0.9461\n",
      "Epoch 73/75\n",
      "52/52 [==============================] - 0s 5ms/step - loss: 0.3177 - accuracy: 0.9436 - val_loss: 0.3091 - val_accuracy: 0.9461\n",
      "Epoch 74/75\n",
      "52/52 [==============================] - 0s 5ms/step - loss: 0.3104 - accuracy: 0.9466 - val_loss: 0.3139 - val_accuracy: 0.9207\n",
      "Epoch 75/75\n",
      "52/52 [==============================] - 0s 5ms/step - loss: 0.3062 - accuracy: 0.9405 - val_loss: 0.2953 - val_accuracy: 0.9461\n"
     ]
    }
   ],
   "source": [
    "early_stopping_monitor = EarlyStopping(monitor=\"val_accuracy\", patience=20)\n",
    "\n",
    "history = model.fit(training_padded, y_train, epochs=75,\n",
    "                    callbacks=[early_stopping_monitor],\n",
    "                    validation_data = (validation_padded, y_validation)\n",
    "                   )"
   ]
  },
  {
   "cell_type": "markdown",
   "id": "a58e9cb5",
   "metadata": {},
   "source": [
    "# D1. Stopping Criteria\n",
    "\n",
    "I did use a stop criteria with my model and experimented with a patience range of 1-10 epochs; however, I found it did not consistently get past the first 10 epochs to where the model actually learned. If it was able to get past these epochs it would have been useful for stopping ~epoch 60 before accuracy stopped increasing. My network is not very dense, which means it requires many epochs to learn. If my model was denser, I may be able to take advantage of the stop critera more effectively. Additionally, with a larger dataset, the inconsistencies could be limited. I chose to use validation accuracy has my stop criteria metric, since validation loss was not a concern, the model is not overfitting.\n",
    "\n",
    "# D2. Fitness (Overfitting/Underfitting)\n",
    "\n",
    "Based on my parameter tuning, I believe I have a model just shy of overfitting. According to the Tensorflow documentation (t1), Validation loss would begin to level out and then rise at the point of overfitting, we are just beginning to level out with 75 epochs. Additionally, accuracy is still slowly rising. It is important to note the sparatic jumps in validation accuracy between 0 - 40 epochs. Some sources claim this is proof of overfitting, and others claim this can be from random noise in the data. After taking into account the entire models performance, and the fact that the modeling can be inconsistent, I believe these are caused from random noise when the model was still 'young' and could not properly classify. The validation accuracy usually has an increase after 40 epochs, regardless of the random weights state. This shows it was still learning and the validation loss did not begin to stagnate. Further elaboration is available in the Functionality section. If overfitting did become a problem, the stop criteria would end the fitting before it became too large of a problem.\n",
    "\n",
    "# D3. Visualizations"
   ]
  },
  {
   "cell_type": "code",
   "execution_count": 20,
   "id": "4b62086a",
   "metadata": {},
   "outputs": [
    {
     "data": {
      "image/png": "[encoded data removed]",
      "text/plain": [
       "<Figure size 1200x600 with 2 Axes>"
      ]
     },
     "metadata": {},
     "output_type": "display_data"
    }
   ],
   "source": [
    "# plot parameters\n",
    "accuracy = history.history['accuracy']\n",
    "validation_accuracy = history.history['val_accuracy']\n",
    "loss = history.history['loss']\n",
    "validation_loss = history.history['val_loss']\n",
    "epochs=range(len(accuracy))\n",
    "\n",
    "fig, [ax1, ax2] = plt.subplots(1, 2, sharex=True, figsize=(12, 6))\n",
    "\n",
    "# Accuracy Plot\n",
    "ax1.plot(epochs, accuracy)\n",
    "ax1.plot(epochs, validation_accuracy)\n",
    "ax1.set_xlabel(\"Epoch\")\n",
    "ax1.set_ylabel(\"Accuracy Percentage\")\n",
    "ax1.set_title('Accuracy')\n",
    "ax1.set_ylim(0, 1)\n",
    "ax1.legend(['Training', 'Validation'], loc='lower center')\n",
    "\n",
    "# Loss Plot\n",
    "ax2.plot(epochs, loss)\n",
    "ax2.plot(epochs, validation_loss)\n",
    "ax2.set_xlabel(\"Epoch\")\n",
    "ax2.set_ylabel(\"Binary Crossentropy\")\n",
    "ax2.set_title('Loss')\n",
    "ax2.set_ylim(0, 1)\n",
    "ax2.legend(['Training', 'Validation'], loc='lower center')\n",
    "\n",
    "plt.show()"
   ]
  },
  {
   "cell_type": "markdown",
   "id": "25f59823",
   "metadata": {},
   "source": [
    "## D4. Predictive Accuracy\n",
    "\n",
    "We can see from the above plots, the model has an accuracy nearing 100% for both the Training and Validation data, but these datasets have been supervised. To check the actual predictive accuracy of the dataset, we will run a prediction on new data the model has not seen, and evaluate the accuracy of the predicted data."
   ]
  },
  {
   "cell_type": "code",
   "execution_count": 21,
   "id": "6602f72a",
   "metadata": {},
   "outputs": [
    {
     "name": "stdout",
     "output_type": "stream",
     "text": [
      "43/43 [==============================] - 0s 1ms/step\n"
     ]
    },
    {
     "data": {
      "image/png": "[encoded data removed]",
      "text/plain": [
       "<Figure size 640x480 with 2 Axes>"
      ]
     },
     "metadata": {},
     "output_type": "display_data"
    },
    {
     "name": "stdout",
     "output_type": "stream",
     "text": [
      "Accuracy: 0.82\n",
      "Precision: 0.86\n",
      "Sensitivity (Recall): 0.76\n",
      "Specificity: 0.87\n",
      "F-score: 0.8\n"
     ]
    }
   ],
   "source": [
    "# Predict Labels\n",
    "y_pred = model.predict(testing_padded).round()\n",
    "\n",
    "# Plot Confusion Matrix Visualization\n",
    "cm = confusion_matrix(y_test, y_pred)\n",
    "disp = ConfusionMatrixDisplay(confusion_matrix=cm)\n",
    "disp.plot()\n",
    "\n",
    "plt.show()\n",
    "\n",
    "# All Confusion Matrix Metrics\n",
    "print(f'Accuracy: {round(metrics.accuracy_score(y_test, y_pred),2)}')\n",
    "print(f'Precision: {round(metrics.precision_score(y_test, y_pred),2)}')\n",
    "print(f'Sensitivity (Recall): {round(metrics.recall_score(y_test, y_pred),2)}')\n",
    "print(f'Specificity: {round(metrics.recall_score(y_test, y_pred, pos_label=0),2)}')\n",
    "print(f'F-score: {round(metrics.f1_score(y_test, y_pred),2)}')"
   ]
  },
  {
   "cell_type": "markdown",
   "id": "e231f2d0",
   "metadata": {},
   "source": [
    "# Part V: Summary and Recommendations\n",
    "\n",
    "## E. Saved Model"
   ]
  },
  {
   "cell_type": "code",
   "execution_count": 22,
   "id": "e73d02a8",
   "metadata": {},
   "outputs": [],
   "source": [
    "# Save Model to h5 File\n",
    "model.save('d213_task2_model.h5')"
   ]
  },
  {
   "cell_type": "markdown",
   "id": "43e3dfad",
   "metadata": {},
   "source": [
    "## F. Functionality\n",
    "\n",
    "After running multiple models and changing random states I believe this model is semi-functional. My reasoning is it does provide an 83% accuracy on new data it hasn't seen before (Test Data). However, I do believe their are a few things that can be done to make it more effective.\n",
    "First, if more layers were added, we could lower the number of epochs it takes to get to 83%, with more nodes we should be able to lower the number of epochs.\n",
    "Secondly, after testing different random states of the train_test_split, it became very clear the dataset has a lot of noise. Some splits made the model learn rapidly, achieving 80% accuracy after 2-3 epochs, and then overfitting, other times it took more then 75 epochs to reach 80% accuracy. Depending on how the data is split, it can very much effect the training/fitting effectiveness. We also can see the model is noisy from the random jumps in accuracy from the validation data. There will be random epochs where the validation accuracy is 90%+, then it drops back to 40-50%.\n",
    "\n",
    "## G. Recommendation\n",
    "\n",
    "For the next course of action, I do believe the model can be used effectively to classify good and bad reviews. However, I believe long term in order to make a more effective model a larger dataset should be used. With a larger dataset, the problems mentioned under Functionality should be removed.\n",
    "\n",
    "## I. Web Sources\n",
    "\n",
    "How to extract all the emojis from text? (n.d.). Stack Overflow. Retrieved January 2, 2024, from https://stackoverflow.com/questions/43146528/how-to-extract-all-the-emojis-from-text\n",
    "\n",
    "Zach. (2021, August 19). How to Use Pandas apply() inplace. Statology. https://www.statology.org/pandas-apply-inplace/\n",
    "\n",
    "Natural Language Processing - Tokenization (NLP Zero to Hero - Part 1). (n.d.). Www.youtube.com. Retrieved January 2, 2024, from https://youtu.be/fNxaJsNG3-s?si=9i2SHMXQ1JmeZdzk\n",
    "\n",
    "Sequencing - Turning sentences into data (NLP Zero to Hero - Part 2). (n.d.). Www.youtube.com. Retrieved January 2, 2024, from https://youtu.be/r9QjkdSJZ2g?si=pkrLMRVY_fWAQUzy\n",
    "\n",
    "Training a model to recognize sentiment in text (NLP Zero to Hero - Part 3). (n.d.). Www.youtube.com. Retrieved January 2, 2024, from https://youtu.be/Y_hzMnRXjhI?si=04EM7nKNCDPG270O\n",
    "\n",
    "Python Remove Key from Dictionary – How to Delete Keys from a Dict. (2023, February 22). FreeCodeCamp.org. https://www.freecodecamp.org/news/python-remove-key-from-dictionary/\n",
    "\n",
    "Khanna, C. (2021, February 10). Text pre-processing: Stop words removal using different libraries. Medium. https://towardsdatascience.com/text-pre-processing-stop-words-removal-using-different-libraries-f20bac19929a\n",
    "\n",
    "Why is the validation accuracy fluctuating? (n.d.). Cross Validated. Retrieved January 2, 2024, from https://stats.stackexchange.com/questions/255105/why-is-the-validation-accuracy-fluctuating\n",
    "\n",
    "Train loss is decreasing, but accuracy remain the same. (2021, January 17). Hugging Face Forums. https://discuss.huggingface.co/t/train-loss-is-decreasing-but-accuracy-remain-the-same/3244\n",
    "\n",
    "Validation loss and accuracy has a lot of “jumps.” (n.d.). Stack Overflow. Retrieved January 2, 2024, from https://stackoverflow.com/questions/75274978/validation-loss-and-accuracy-has-a-lot-of-jumps\n",
    "\n",
    "Why my network needs so many epochs to learn? (n.d.). Data Science Stack Exchange. RetrievedJanuary 2, 2024, from https://datascience.stackexchange.com/questions/53033/why-my-network-needs-so-many-epochs-to-learn\n",
    "\n",
    "Tensorflow. (2017). Explore overfitting and underfitting  |  TensorFlow Core  |  TensorFlow. TensorFlow. https://www.tensorflow.org/tutorials/keras/overfit_and_underfit\n",
    "\n",
    "machine learning - Why binary_crossentropy and categorical_crossentropy give different performances for the same problem? (n.d.). Stack Overflow. https://stackoverflow.com/questions/42081257/why-binary-crossentropy-and-categorical-crossentropy-give-different-performances\n",
    "\n",
    "Kingma, D. P., & Ba, J. (2014, December 22). Adam: A Method for Stochastic Optimization. ArXiv.org. https://arxiv.org/abs/1412.6980\n",
    "\n",
    "What is the difference between test set and validation set. (2011, November 28). What is the difference between test set and validation set? Cross Validated. https://stats.stackexchange.com/questions/19048/what-is-the-difference-between-test-set-and-validation-set\n",
    "\n",
    "Tokuç, A. A. (2021, January 14). Splitting a Dataset into Train and Test Sets | Baeldung on Computer Science. Www.baeldung.com. https://www.baeldung.com/cs/train-test-datasets-ratio\n",
    "\n",
    "Why is the result changing every time I run my TensorFlow model in my code? (n.d.). Stack Overflow. Retrieved December 15, 2023, from https://stackoverflow.com/questions/76325816/why-is-the-result-changing-every-time-i-run-my-tensorflow-model-in-my-code\n",
    "\n",
    "## J. Other Sources\n",
    "\n",
    "Google. Introducing TensorFlow Feature Columns. (n.d.). https://developers.googleblog.com/2017/11/introducing-tensorflow-feature-columns.html\n",
    "\n",
    "Brownlee, J. How to Use Word Embedding Layers (2017, October 3). How to Use Word Embedding Layers for Deep Learning with Keras. Machine Learning Mastery. https://machinelearningmastery.com/use-word-embedding-layers-deep-learning-keras/\n",
    "\n",
    "IBM. (2023). What are Recurrent Neural Networks? | IBM. Www.ibm.com. https://www.ibm.com/topics/recurrent-neural-networks"
   ]
  }
 ],
 "metadata": {
  "kernelspec": {
   "display_name": "Python 3 (ipykernel)",
   "language": "python",
   "name": "python3"
  },
  "language_info": {
   "codemirror_mode": {
    "name": "ipython",
    "version": 3
   },
   "file_extension": ".py",
   "mimetype": "text/x-python",
   "name": "python",
   "nbconvert_exporter": "python",
   "pygments_lexer": "ipython3",
   "version": "3.10.9"
  }
 },
 "nbformat": 4,
 "nbformat_minor": 5
}
